{
 "cells": [
  {
   "cell_type": "code",
   "execution_count": 1,
   "id": "c212206a",
   "metadata": {},
   "outputs": [],
   "source": [
    "import os\n",
    "import pathlib\n",
    "import numpy as np\n",
    "import cv2\n",
    "import torch\n",
    "from glob import glob\n",
    "import torchvision.transforms as tf\n",
    "import matplotlib.pyplot as plt\n",
    "from PIL import Image\n",
    "from torch.utils.data import Dataset\n",
    "from torchvision import transforms\n",
    "from torch.utils.data import DataLoader\n",
    "from tqdm.notebook import tqdm, trange\n",
    "import albumentations as A\n",
    "from albumentations.pytorch import ToTensorV2\n",
    "from torchvision import transforms\n",
    "from torch.utils.data import WeightedRandomSampler\n",
    "from sklearn.metrics import confusion_matrix\n",
    "from sklearn.metrics import roc_auc_score, roc_curve, precision_recall_curve, average_precision_score\n",
    "from typing import Tuple, Dict, List\n"
   ]
  },
  {
   "cell_type": "code",
   "execution_count": 2,
   "id": "89cc4baf",
   "metadata": {},
   "outputs": [],
   "source": [
    "device = torch.device('cuda') if torch.cuda.is_available() else torch.device('cpu')\n",
    "learning_rate = 1e-4\n",
    "batch_size = 16\n",
    "num_workers = 0\n"
   ]
  },
  {
   "cell_type": "code",
   "execution_count": 3,
   "id": "f682e093",
   "metadata": {},
   "outputs": [],
   "source": [
    "def find_classes(directory: str) -> Tuple[List[str], Dict[str, int]]:\n",
    "    \n",
    "    classes = sorted(entry.name for entry in os.scandir(directory) if entry.is_dir())\n",
    "    \n",
    "    if not classes:\n",
    "        \n",
    "        raise FileNotFoundError(f\"Couldn't find any classes in {directory}.\")\n",
    "    \n",
    "    class_to_idx = {cls_name: i for i, cls_name in enumerate(classes)}\n",
    "    \n",
    "    return classes, class_to_idx\n"
   ]
  },
  {
   "cell_type": "code",
   "execution_count": 4,
   "id": "e2ef971b",
   "metadata": {},
   "outputs": [],
   "source": [
    "class ImageFolderCustom(Dataset):\n",
    "\n",
    "    def __init__(self, targ_dir: str, transform=None) -> None:\n",
    "        \n",
    "        self.paths = list(pathlib.Path(targ_dir).glob(\"*/*.npy\"))\n",
    "\n",
    "        self.transform = transform\n",
    "\n",
    "        self.classes, self.class_to_idx = find_classes(targ_dir)\n",
    "        \n",
    "\n",
    "    def load_image(self, index: int) -> Image.Image:\n",
    "\n",
    "        image_path = self.paths[index]\n",
    "        \n",
    "        return np.load(image_path) \n",
    "    \n",
    "    def __len__(self) -> int:\n",
    "\n",
    "        return len(self.paths)\n",
    "    \n",
    "    def __getitem__(self, index: int) -> Tuple[torch.Tensor, int]:\n",
    "\n",
    "        img = self.load_image(index)\n",
    "        img = np.expand_dims(img, axis = 0)\n",
    "        class_name  = self.paths[index].parent.name \n",
    "        class_idx = self.class_to_idx[class_name]\n",
    "\n",
    "        if self.transform:\n",
    "            \n",
    "            return self.transform(img), class_idx \n",
    "        \n",
    "        else:\n",
    "            \n",
    "            return img, class_idx \n",
    "        "
   ]
  },
  {
   "cell_type": "code",
   "execution_count": 5,
   "id": "0e14dfb5",
   "metadata": {},
   "outputs": [],
   "source": [
    "train_img_dir = 'E:/Tanvir Mehedi/Nodule_Classification/Data/train/'\n",
    "\n",
    "val_img_dir = 'E:/Tanvir Mehedi/Nodule_Classification/Data/validation/'\n"
   ]
  },
  {
   "cell_type": "code",
   "execution_count": 6,
   "id": "3970916c",
   "metadata": {},
   "outputs": [],
   "source": [
    "model_save_dir = 'E:/Tanvir Mehedi/Nodule_Classification/Saved_models/Base_NN_model/'\n"
   ]
  },
  {
   "cell_type": "code",
   "execution_count": 7,
   "id": "54de1a5e",
   "metadata": {},
   "outputs": [
    {
     "data": {
      "text/plain": [
       "['neg_cube', 'pos_cube']"
      ]
     },
     "execution_count": 7,
     "metadata": {},
     "output_type": "execute_result"
    }
   ],
   "source": [
    "img_dir = train_img_dir\n",
    "\n",
    "no_of_subdirectories = len(glob(img_dir + '*'))\n",
    "\n",
    "subdirectories = [glob(img_dir + '*')[i].split('\\\\')[-1] for i in range(no_of_subdirectories) ]\n",
    "subdirectories\n"
   ]
  },
  {
   "cell_type": "code",
   "execution_count": 8,
   "id": "2789d089",
   "metadata": {},
   "outputs": [
    {
     "data": {
      "text/plain": [
       "[3.797184767213588e-06, 7.23589001447178e-05]"
      ]
     },
     "execution_count": 8,
     "metadata": {},
     "output_type": "execute_result"
    }
   ],
   "source": [
    "no_of_subdirectories = len(glob(img_dir + '*'))\n",
    "subdirectories = [glob(img_dir + '*')[i].split('\\\\')[-1] for i in range(no_of_subdirectories) ]\n",
    "\n",
    "class_weights = []\n",
    "\n",
    "for subdir in subdirectories:\n",
    "    files = os.listdir(os.path.join(img_dir, subdir))\n",
    "    class_weights.append(1 / len(files))\n",
    "    \n",
    "class_weights  \n"
   ]
  },
  {
   "cell_type": "code",
   "execution_count": null,
   "id": "d3db2849",
   "metadata": {},
   "outputs": [
    {
     "data": {
      "application/vnd.jupyter.widget-view+json": {
       "model_id": "8fa972a2c80740e18a949df7736758af",
       "version_major": 2,
       "version_minor": 0
      },
      "text/plain": [
       "0it [00:00, ?it/s]"
      ]
     },
     "metadata": {},
     "output_type": "display_data"
    }
   ],
   "source": [
    "train_ds = ImageFolderCustom(\n",
    "#         targ_dir = train_img_dir,\n",
    "        targ_dir = img_dir,\n",
    "        transform = None,\n",
    "    )\n",
    "\n",
    "sample_weights = [0] * len(train_ds)\n",
    "\n",
    "for idx, (data, label) in tqdm(enumerate(train_ds)):\n",
    "    \n",
    "    class_weight = class_weights[label]\n",
    "    sample_weights[idx] = class_weight\n",
    "\n",
    "sampler = WeightedRandomSampler(sample_weights, num_samples=len(sample_weights), replacement=True)\n",
    "\n",
    "train_loader = DataLoader(\n",
    "        train_ds,\n",
    "        batch_size = batch_size,\n",
    "        sampler = sampler,\n",
    "        num_workers = num_workers,\n",
    "        drop_last = True,\n",
    "    )\n"
   ]
  },
  {
   "cell_type": "code",
   "execution_count": null,
   "id": "952e648f",
   "metadata": {},
   "outputs": [],
   "source": [
    "# train_ds = ImageFolderCustom(\n",
    "#         targ_dir = train_img_dir,\n",
    "#         transform = None,\n",
    "#     )\n",
    "\n",
    "# train_loader = DataLoader(\n",
    "#         train_ds,\n",
    "#         batch_size = batch_size,\n",
    "#         num_workers = num_workers,\n",
    "#         shuffle = True,\n",
    "#         drop_last = True,\n",
    "#     )\n"
   ]
  },
  {
   "cell_type": "code",
   "execution_count": 9,
   "id": "afd44403",
   "metadata": {},
   "outputs": [],
   "source": [
    "val_ds = ImageFolderCustom(\n",
    "        targ_dir = val_img_dir,\n",
    "        transform = None,\n",
    "    )\n",
    "\n",
    "val_loader = DataLoader(\n",
    "        val_ds,\n",
    "        batch_size = batch_size,\n",
    "        num_workers = num_workers,\n",
    "        shuffle = False,\n",
    "        drop_last = True,\n",
    "    )\n"
   ]
  },
  {
   "cell_type": "code",
   "execution_count": 28,
   "id": "f9744549",
   "metadata": {},
   "outputs": [],
   "source": [
    "from model_paper import Base_NN_Model\n",
    "\n",
    "model =  Base_NN_Model()\n",
    "model = model.to(device)\n"
   ]
  },
  {
   "cell_type": "code",
   "execution_count": null,
   "id": "9b1b4d1a",
   "metadata": {},
   "outputs": [],
   "source": [
    "# from ResNet3D_model import ResNet3D\n",
    "\n",
    "# model =  ResNet3D()\n",
    "# model = model.to(device)"
   ]
  },
  {
   "cell_type": "code",
   "execution_count": null,
   "id": "0b560a68",
   "metadata": {},
   "outputs": [],
   "source": [
    "# Define the class frequencies\n",
    "\n",
    "# no_of_pos_files = 18657\n",
    "# no_of_neg_files = 263353\n",
    "\n",
    "# positive_frequency = no_of_pos_files/(no_of_pos_files + no_of_neg_files)\n",
    "# negative_frequency = 1 - positive_frequency\n",
    "\n",
    "# # Assign weights to each class proportional to the inverse of its frequency\n",
    "\n",
    "# positive_weight = 1 / positive_frequency\n",
    "# negative_weight = 1 / negative_frequency\n",
    "\n",
    "# # Normalize the weights so that they sum up to 1\n",
    "\n",
    "# total_weight = positive_weight + negative_weight\n",
    "# positive_weight /= total_weight\n",
    "# negative_weight /= total_weight\n",
    "\n",
    "# # Define the class weights tensor\n",
    "\n",
    "# class_weights = torch.FloatTensor([negative_weight, positive_weight]).to(device)\n",
    "\n",
    "# class_weights\n"
   ]
  },
  {
   "cell_type": "code",
   "execution_count": 11,
   "id": "599f478d",
   "metadata": {},
   "outputs": [],
   "source": [
    "optimizer = torch.optim.AdamW(params = model.parameters(), lr = learning_rate) \n",
    "# optimizer = torch.optim.SGD(model.parameters(), lr = learning_rate, momentum = 0.9)\n",
    "\n",
    "loss_criterion = torch.nn.CrossEntropyLoss()\n",
    "# loss_criterion = torch.nn.CrossEntropyLoss(weight = class_weights)\n"
   ]
  },
  {
   "cell_type": "code",
   "execution_count": 12,
   "id": "babf2df7",
   "metadata": {},
   "outputs": [],
   "source": [
    "results = {\"train_loss\": [],\n",
    "        \"train_accuracy\": [],\n",
    "        \"validation_loss\": [],\n",
    "        \"validation_accuracy\": []\n",
    "    }\n"
   ]
  },
  {
   "cell_type": "code",
   "execution_count": 29,
   "id": "8ac8fbdb",
   "metadata": {},
   "outputs": [
    {
     "data": {
      "text/plain": [
       "17323"
      ]
     },
     "execution_count": 29,
     "metadata": {},
     "output_type": "execute_result"
    }
   ],
   "source": [
    "len(train_loader)\n"
   ]
  },
  {
   "cell_type": "code",
   "execution_count": 30,
   "id": "7a758d73",
   "metadata": {},
   "outputs": [
    {
     "data": {
      "application/vnd.jupyter.widget-view+json": {
       "model_id": "2e463ed228b14ac8ac6fb1b872b050f5",
       "version_major": 2,
       "version_minor": 0
      },
      "text/plain": [
       "0it [00:00, ?it/s]"
      ]
     },
     "metadata": {},
     "output_type": "display_data"
    },
    {
     "name": "stdout",
     "output_type": "stream",
     "text": [
      "tensor(138853, device='cuda:0') tensor(138315, device='cuda:0')\n"
     ]
    }
   ],
   "source": [
    "for epoch in range(1):\n",
    "    pos = 0\n",
    "    neg = 0\n",
    "    \n",
    "    for itera_no, data in tqdm(enumerate(train_loader)):\n",
    "        \n",
    "        images, labels = data\n",
    "        images, labels = images.to(device), labels.to(device)\n",
    "\n",
    "#         print(labels)\n",
    "        \n",
    "        neg += torch.sum(labels == 0)\n",
    "        pos += torch.sum(labels == 1)\n",
    "        \n",
    "print(pos,neg)\n"
   ]
  },
  {
   "cell_type": "code",
   "execution_count": 14,
   "id": "d46325c0",
   "metadata": {},
   "outputs": [],
   "source": [
    "root_dir = 'E:/Tanvir Mehedi/Nodule_Classification/Saved_models/Base_NN_model/'\n",
    "\n",
    "def save_checkpoint(state, filename = root_dir + 'val_checkpoint_Base_NN_model.pt.tar'):\n",
    "    \n",
    "    print('=> Saving Checkpoint')\n",
    "    torch.save(state, filename)\n",
    "    \n",
    "def save_sensitive_checkpoint(state, filename = root_dir + 'val_sensitive_Base_NN_model_checkpoint.pt.tar'):\n",
    "    \n",
    "    print('=> Saving Checkpoint')\n",
    "    torch.save(state, filename)\n",
    "    "
   ]
  },
  {
   "cell_type": "code",
   "execution_count": 31,
   "id": "cecd2ace",
   "metadata": {},
   "outputs": [],
   "source": [
    "def auc_roc_calc(all_labels, pos_preds):\n",
    "    \n",
    "    all_labels_on_cpu = []\n",
    "\n",
    "    for tensor in all_labels:\n",
    "        tensor_on_cpu = tensor.cpu().numpy()\n",
    "        all_labels_on_cpu.append(tensor_on_cpu)\n",
    "\n",
    "    pos_preds_on_cpu = []\n",
    "\n",
    "    for tensor in pos_preds:\n",
    "        tensor_on_cpu = tensor.cpu().numpy()\n",
    "        pos_preds_on_cpu.append(tensor_on_cpu)\n",
    "\n",
    "    auc_roc = roc_auc_score(all_labels_on_cpu, pos_preds_on_cpu)\n",
    "    \n",
    "    return all_labels_on_cpu, pos_preds_on_cpu, auc_roc\n"
   ]
  },
  {
   "cell_type": "code",
   "execution_count": 16,
   "id": "6a0eacf3",
   "metadata": {},
   "outputs": [],
   "source": [
    "total_epochs = 50\n",
    "\n",
    "best_score = 0\n",
    "best_sen_score = 0\n",
    "best_auc_roc = 0\n",
    "all_auc_roc = []\n"
   ]
  },
  {
   "cell_type": "code",
   "execution_count": 59,
   "id": "e9e22134",
   "metadata": {
    "scrolled": true
   },
   "outputs": [
    {
     "data": {
      "application/vnd.jupyter.widget-view+json": {
       "model_id": "7fa8a5f7156246ac86148b8f3cc47695",
       "version_major": 2,
       "version_minor": 0
      },
      "text/plain": [
       "Epoch: 1:   0%|          | 0/17323 [00:00<?, ?it/s]"
      ]
     },
     "metadata": {},
     "output_type": "display_data"
    },
    {
     "name": "stdout",
     "output_type": "stream",
     "text": [
      "1 ) Training Loss :  0.7507112640497186\n"
     ]
    },
    {
     "data": {
      "application/vnd.jupyter.widget-view+json": {
       "model_id": "ccc01565ab034555af38adbdef9afead",
       "version_major": 2,
       "version_minor": 0
      },
      "text/plain": [
       "0it [00:00, ?it/s]"
      ]
     },
     "metadata": {},
     "output_type": "display_data"
    },
    {
     "ename": "ValueError",
     "evalue": "Found input variables with inconsistent numbers of samples: [3791, 60656]",
     "output_type": "error",
     "traceback": [
      "\u001b[1;31m---------------------------------------------------------------------------\u001b[0m",
      "\u001b[1;31mValueError\u001b[0m                                Traceback (most recent call last)",
      "\u001b[1;32m~\\AppData\\Local\\Temp/ipykernel_11696/4246241965.py\u001b[0m in \u001b[0;36m<module>\u001b[1;34m\u001b[0m\n\u001b[0;32m     79\u001b[0m     \u001b[0mF1\u001b[0m \u001b[1;33m=\u001b[0m \u001b[1;33m(\u001b[0m\u001b[1;33m(\u001b[0m\u001b[1;36m2\u001b[0m\u001b[1;33m*\u001b[0m\u001b[0msensitivity\u001b[0m\u001b[1;33m*\u001b[0m\u001b[0mprecision\u001b[0m\u001b[1;33m)\u001b[0m\u001b[1;33m/\u001b[0m\u001b[1;33m(\u001b[0m\u001b[0msensitivity\u001b[0m\u001b[1;33m+\u001b[0m\u001b[0mprecision\u001b[0m\u001b[1;33m)\u001b[0m\u001b[1;33m)\u001b[0m\u001b[1;33m*\u001b[0m\u001b[1;36m100\u001b[0m\u001b[1;33m\u001b[0m\u001b[1;33m\u001b[0m\u001b[0m\n\u001b[0;32m     80\u001b[0m \u001b[1;33m\u001b[0m\u001b[0m\n\u001b[1;32m---> 81\u001b[1;33m     \u001b[0m_\u001b[0m\u001b[1;33m,\u001b[0m \u001b[0m_\u001b[0m\u001b[1;33m,\u001b[0m \u001b[0mauc_roc\u001b[0m \u001b[1;33m=\u001b[0m \u001b[0mauc_roc_calc\u001b[0m\u001b[1;33m(\u001b[0m\u001b[0mall_labels\u001b[0m\u001b[1;33m,\u001b[0m \u001b[0mpos_preds\u001b[0m\u001b[1;33m)\u001b[0m\u001b[1;33m\u001b[0m\u001b[1;33m\u001b[0m\u001b[0m\n\u001b[0m\u001b[0;32m     82\u001b[0m     \u001b[0mall_auc_roc\u001b[0m\u001b[1;33m.\u001b[0m\u001b[0mappend\u001b[0m\u001b[1;33m(\u001b[0m\u001b[0mauc_roc\u001b[0m\u001b[1;33m)\u001b[0m\u001b[1;33m\u001b[0m\u001b[1;33m\u001b[0m\u001b[0m\n\u001b[0;32m     83\u001b[0m \u001b[1;33m\u001b[0m\u001b[0m\n",
      "\u001b[1;32m~\\AppData\\Local\\Temp/ipykernel_11696/2300626655.py\u001b[0m in \u001b[0;36mauc_roc_calc\u001b[1;34m(all_labels, pos_preds)\u001b[0m\n\u001b[0;32m     13\u001b[0m         \u001b[0mpos_preds_on_cpu\u001b[0m\u001b[1;33m.\u001b[0m\u001b[0mappend\u001b[0m\u001b[1;33m(\u001b[0m\u001b[0mtensor_on_cpu\u001b[0m\u001b[1;33m)\u001b[0m\u001b[1;33m\u001b[0m\u001b[1;33m\u001b[0m\u001b[0m\n\u001b[0;32m     14\u001b[0m \u001b[1;33m\u001b[0m\u001b[0m\n\u001b[1;32m---> 15\u001b[1;33m     \u001b[0mauc_roc\u001b[0m \u001b[1;33m=\u001b[0m \u001b[0mroc_auc_score\u001b[0m\u001b[1;33m(\u001b[0m\u001b[0mall_labels_on_cpu\u001b[0m\u001b[1;33m,\u001b[0m \u001b[0mpos_preds_on_cpu\u001b[0m\u001b[1;33m)\u001b[0m\u001b[1;33m\u001b[0m\u001b[1;33m\u001b[0m\u001b[0m\n\u001b[0m\u001b[0;32m     16\u001b[0m \u001b[1;33m\u001b[0m\u001b[0m\n\u001b[0;32m     17\u001b[0m     \u001b[1;32mreturn\u001b[0m \u001b[0mall_labels_on_cpu\u001b[0m\u001b[1;33m,\u001b[0m \u001b[0mpos_preds_on_cpu\u001b[0m\u001b[1;33m,\u001b[0m \u001b[0mauc_roc\u001b[0m\u001b[1;33m\u001b[0m\u001b[1;33m\u001b[0m\u001b[0m\n",
      "\u001b[1;32m~\\anaconda3\\envs\\bme_ct\\lib\\site-packages\\sklearn\\metrics\\_ranking.py\u001b[0m in \u001b[0;36mroc_auc_score\u001b[1;34m(y_true, y_score, average, sample_weight, max_fpr, multi_class, labels)\u001b[0m\n\u001b[0;32m    573\u001b[0m         )\n\u001b[0;32m    574\u001b[0m     \u001b[1;32melse\u001b[0m\u001b[1;33m:\u001b[0m  \u001b[1;31m# multilabel-indicator\u001b[0m\u001b[1;33m\u001b[0m\u001b[1;33m\u001b[0m\u001b[0m\n\u001b[1;32m--> 575\u001b[1;33m         return _average_binary_score(\n\u001b[0m\u001b[0;32m    576\u001b[0m             \u001b[0mpartial\u001b[0m\u001b[1;33m(\u001b[0m\u001b[0m_binary_roc_auc_score\u001b[0m\u001b[1;33m,\u001b[0m \u001b[0mmax_fpr\u001b[0m\u001b[1;33m=\u001b[0m\u001b[0mmax_fpr\u001b[0m\u001b[1;33m)\u001b[0m\u001b[1;33m,\u001b[0m\u001b[1;33m\u001b[0m\u001b[1;33m\u001b[0m\u001b[0m\n\u001b[0;32m    577\u001b[0m             \u001b[0my_true\u001b[0m\u001b[1;33m,\u001b[0m\u001b[1;33m\u001b[0m\u001b[1;33m\u001b[0m\u001b[0m\n",
      "\u001b[1;32m~\\anaconda3\\envs\\bme_ct\\lib\\site-packages\\sklearn\\metrics\\_base.py\u001b[0m in \u001b[0;36m_average_binary_score\u001b[1;34m(binary_metric, y_true, y_score, average, sample_weight)\u001b[0m\n\u001b[0;32m     75\u001b[0m         \u001b[1;32mreturn\u001b[0m \u001b[0mbinary_metric\u001b[0m\u001b[1;33m(\u001b[0m\u001b[0my_true\u001b[0m\u001b[1;33m,\u001b[0m \u001b[0my_score\u001b[0m\u001b[1;33m,\u001b[0m \u001b[0msample_weight\u001b[0m\u001b[1;33m=\u001b[0m\u001b[0msample_weight\u001b[0m\u001b[1;33m)\u001b[0m\u001b[1;33m\u001b[0m\u001b[1;33m\u001b[0m\u001b[0m\n\u001b[0;32m     76\u001b[0m \u001b[1;33m\u001b[0m\u001b[0m\n\u001b[1;32m---> 77\u001b[1;33m     \u001b[0mcheck_consistent_length\u001b[0m\u001b[1;33m(\u001b[0m\u001b[0my_true\u001b[0m\u001b[1;33m,\u001b[0m \u001b[0my_score\u001b[0m\u001b[1;33m,\u001b[0m \u001b[0msample_weight\u001b[0m\u001b[1;33m)\u001b[0m\u001b[1;33m\u001b[0m\u001b[1;33m\u001b[0m\u001b[0m\n\u001b[0m\u001b[0;32m     78\u001b[0m     \u001b[0my_true\u001b[0m \u001b[1;33m=\u001b[0m \u001b[0mcheck_array\u001b[0m\u001b[1;33m(\u001b[0m\u001b[0my_true\u001b[0m\u001b[1;33m)\u001b[0m\u001b[1;33m\u001b[0m\u001b[1;33m\u001b[0m\u001b[0m\n\u001b[0;32m     79\u001b[0m     \u001b[0my_score\u001b[0m \u001b[1;33m=\u001b[0m \u001b[0mcheck_array\u001b[0m\u001b[1;33m(\u001b[0m\u001b[0my_score\u001b[0m\u001b[1;33m)\u001b[0m\u001b[1;33m\u001b[0m\u001b[1;33m\u001b[0m\u001b[0m\n",
      "\u001b[1;32m~\\anaconda3\\envs\\bme_ct\\lib\\site-packages\\sklearn\\utils\\validation.py\u001b[0m in \u001b[0;36mcheck_consistent_length\u001b[1;34m(*arrays)\u001b[0m\n\u001b[0;32m    329\u001b[0m     \u001b[0muniques\u001b[0m \u001b[1;33m=\u001b[0m \u001b[0mnp\u001b[0m\u001b[1;33m.\u001b[0m\u001b[0munique\u001b[0m\u001b[1;33m(\u001b[0m\u001b[0mlengths\u001b[0m\u001b[1;33m)\u001b[0m\u001b[1;33m\u001b[0m\u001b[1;33m\u001b[0m\u001b[0m\n\u001b[0;32m    330\u001b[0m     \u001b[1;32mif\u001b[0m \u001b[0mlen\u001b[0m\u001b[1;33m(\u001b[0m\u001b[0muniques\u001b[0m\u001b[1;33m)\u001b[0m \u001b[1;33m>\u001b[0m \u001b[1;36m1\u001b[0m\u001b[1;33m:\u001b[0m\u001b[1;33m\u001b[0m\u001b[1;33m\u001b[0m\u001b[0m\n\u001b[1;32m--> 331\u001b[1;33m         raise ValueError(\n\u001b[0m\u001b[0;32m    332\u001b[0m             \u001b[1;34m\"Found input variables with inconsistent numbers of samples: %r\"\u001b[0m\u001b[1;33m\u001b[0m\u001b[1;33m\u001b[0m\u001b[0m\n\u001b[0;32m    333\u001b[0m             \u001b[1;33m%\u001b[0m \u001b[1;33m[\u001b[0m\u001b[0mint\u001b[0m\u001b[1;33m(\u001b[0m\u001b[0ml\u001b[0m\u001b[1;33m)\u001b[0m \u001b[1;32mfor\u001b[0m \u001b[0ml\u001b[0m \u001b[1;32min\u001b[0m \u001b[0mlengths\u001b[0m\u001b[1;33m]\u001b[0m\u001b[1;33m\u001b[0m\u001b[1;33m\u001b[0m\u001b[0m\n",
      "\u001b[1;31mValueError\u001b[0m: Found input variables with inconsistent numbers of samples: [3791, 60656]"
     ]
    }
   ],
   "source": [
    "for epoch in range(1, total_epochs+1):\n",
    "    \n",
    "    model.train()\n",
    "    optimizer.zero_grad()\n",
    "    \n",
    "    train_loss = 0\n",
    "    CM = 0\n",
    "    \n",
    "    pbar = tqdm(train_loader, desc='Epoch: {}'.format(epoch))\n",
    "    \n",
    "    for itera_no, data in enumerate(pbar):\n",
    "        \n",
    "        images, labels = data\n",
    "        images, labels = images.to(device), labels.to(device)\n",
    "\n",
    "        out = model(images)\n",
    "        \n",
    "        \n",
    "        loss = loss_criterion(out, labels)\n",
    "    \n",
    "        train_loss += loss.item()\n",
    "        loss.backward()\n",
    "        \n",
    "#         torch.nn.utils.clip_grad_norm_(model.parameters(), max_norm =2.0, norm_type=2.0)\n",
    "        optimizer.step()\n",
    "        optimizer.zero_grad()\n",
    "        \n",
    "        pred_class = torch.argmax(torch.nn.functional.softmax(out, dim = 1), dim = 1)\n",
    "        \n",
    "          \n",
    "    train_loss = train_loss / len(train_loader)\n",
    "    results['train_loss'].append(train_loss)\n",
    "  \n",
    "    print(epoch,\") Training Loss : \", train_loss)\n",
    "    \n",
    "    model.eval() \n",
    "    \n",
    "    val_loss =  0\n",
    "    val_acc = 0\n",
    "    \n",
    "    all_labels = []\n",
    "    all_preds = []\n",
    "    pos_preds = []\n",
    "\n",
    "    with torch.inference_mode():\n",
    "\n",
    "        for itera_no, val_data in tqdm(enumerate(val_loader)):\n",
    "\n",
    "            val_images, val_labels = val_data\n",
    "            val_images, val_labels = val_images.to(device), val_labels.to(device)\n",
    "            all_labels.append(val_labels)\n",
    "\n",
    "            val_pred_logits = model(val_images)\n",
    "\n",
    "            v_loss = loss_criterion(val_pred_logits, val_labels)\n",
    "            val_loss += v_loss.item()\n",
    "            \n",
    "            for pos_logit in val_pred_logits:\n",
    "    \n",
    "                pos_preds.append(torch.sigmoid(pos_logit[1]))\n",
    "        \n",
    "            all_preds.append(torch.sigmoid(val_pred_logits))\n",
    "        \n",
    "            val_class =  torch.argmax(torch.nn.functional.softmax(val_pred_logits, dim = 1), dim = 1)          \n",
    "            \n",
    "            CM+=confusion_matrix(val_labels.cpu(), val_class.cpu(), labels = [0,1]) \n",
    "\n",
    "\n",
    "    val_loss = val_loss / len(val_loader)\n",
    "    results['validation_loss'].append(val_loss)\n",
    "    \n",
    "    tn=CM[0][0]\n",
    "    tp=CM[1][1]\n",
    "    fp=CM[0][1]\n",
    "    fn=CM[1][0]\n",
    "    acc=np.sum(np.diag(CM)/np.sum(CM))\n",
    "    sensitivity=tp/(tp+fn)\n",
    "    precision=tp/(tp+fp)\n",
    "    F1 = ((2*sensitivity*precision)/(sensitivity+precision))*100\n",
    "    \n",
    "    _, _, auc_roc = auc_roc_calc(all_labels, pos_preds)\n",
    "    all_auc_roc.append(auc_roc)\n",
    "    \n",
    "    print('\\nValidation Accuracy(mean): %f %%' % (100 * acc))\n",
    "    print()\n",
    "    print('Confusion Matirx : ')\n",
    "    print(CM)\n",
    "    print('- Sensitivity : ',(tp/(tp+fn))*100)\n",
    "    print('- Specificity : ',(tn/(tn+fp))*100)\n",
    "    print('- Precision: ',(tp/(tp+fp))*100)\n",
    "    print('- NPV: ',(tn/(tn+fn))*100)\n",
    "    print('- F1 : ',F1)\n",
    "    print('AUC', auc_roc)\n",
    "    \n",
    "    print(epoch,\") Validation Loss : \", val_loss)\n",
    "\n",
    "    if F1>best_score:\n",
    "        \n",
    "        best_score = F1\n",
    "        \n",
    "        val_checkpoint = {'model_state' : model.state_dict(), 'optimizer_state' : optimizer.state_dict(), \n",
    "                               'F1_Score' : F1, 'val_sensitivity_score' : sensitivity, 'AUC_ROC' : auc_roc } \n",
    "        save_checkpoint(val_checkpoint)\n",
    "        \n",
    "        print(\"Saving Model with F1 score :\", F1)\n",
    "        \n",
    "        torch.save(model.state_dict(), model_save_dir + 'best_F1_model_Base_NN' + \".torch\")\n",
    "        \n",
    "    if sensitivity>best_sen_score:\n",
    "        \n",
    "        best_sen_score = sensitivity\n",
    "        \n",
    "        val_sensitive_checkpoint = {'model_state' : model.state_dict(), 'optimizer_state' : optimizer.state_dict(), \n",
    "                              'F1_Score' : F1, 'val_sensitivity_score' : sensitivity, 'AUC_ROC' : auc_roc } \n",
    "        save_sensitive_checkpoint(val_sensitive_checkpoint)\n",
    "        \n",
    "        print(\"Saving Sensitive Model with sensitivity :\", sensitivity)\n",
    "        \n",
    "        torch.save(model.state_dict(), model_save_dir + 'best_sensitive_model_Base_NN' + \".torch\")\n",
    "    "
   ]
  },
  {
   "cell_type": "markdown",
   "id": "b04856eb",
   "metadata": {},
   "source": [
    "# Testing"
   ]
  },
  {
   "cell_type": "markdown",
   "id": "0a1bc8c2",
   "metadata": {},
   "source": [
    "# Test_dataset_define\n"
   ]
  },
  {
   "cell_type": "code",
   "execution_count": 17,
   "id": "ba9d9944",
   "metadata": {},
   "outputs": [],
   "source": [
    "test_img_dir = 'E:/Tanvir Mehedi/Nodule_Classification/Data/test/'\n",
    "\n",
    "test_ds = ImageFolderCustom(\n",
    "        targ_dir = test_img_dir,\n",
    "        transform = None,\n",
    "    )\n",
    "\n",
    "test_loader = DataLoader(\n",
    "        test_ds,\n",
    "        batch_size = 1,\n",
    "        num_workers = num_workers,\n",
    "        shuffle = False,\n",
    "        drop_last = True,\n",
    "    )\n"
   ]
  },
  {
   "cell_type": "markdown",
   "id": "fed7d04d",
   "metadata": {},
   "source": [
    "# Saved_model_load"
   ]
  },
  {
   "cell_type": "code",
   "execution_count": 18,
   "id": "9c7adee9",
   "metadata": {},
   "outputs": [
    {
     "data": {
      "text/plain": [
       "<All keys matched successfully>"
      ]
     },
     "execution_count": 18,
     "metadata": {},
     "output_type": "execute_result"
    }
   ],
   "source": [
    "model.load_state_dict(torch.load(model_save_dir + 'best_model_paper.torch', map_location = device))\n"
   ]
  },
  {
   "cell_type": "markdown",
   "id": "773fe165",
   "metadata": {},
   "source": [
    "# Perform_testing"
   ]
  },
  {
   "cell_type": "code",
   "execution_count": 19,
   "id": "881c5cc5",
   "metadata": {},
   "outputs": [
    {
     "data": {
      "application/vnd.jupyter.widget-view+json": {
       "model_id": "6556faa7137a4a03aff58504f2806bb8",
       "version_major": 2,
       "version_minor": 0
      },
      "text/plain": [
       "0it [00:00, ?it/s]"
      ]
     },
     "metadata": {},
     "output_type": "display_data"
    },
    {
     "name": "stdout",
     "output_type": "stream",
     "text": [
      ") Test Loss :  0.7841772686422885\n"
     ]
    },
    {
     "ename": "NameError",
     "evalue": "name 'all_preds_on_cpu' is not defined",
     "output_type": "error",
     "traceback": [
      "\u001b[1;31m---------------------------------------------------------------------------\u001b[0m",
      "\u001b[1;31mNameError\u001b[0m                                 Traceback (most recent call last)",
      "\u001b[1;32m~\\AppData\\Local\\Temp/ipykernel_11696/896999591.py\u001b[0m in \u001b[0;36m<module>\u001b[1;34m\u001b[0m\n\u001b[0;32m     43\u001b[0m \u001b[0mprecision\u001b[0m\u001b[1;33m=\u001b[0m\u001b[0mtp\u001b[0m\u001b[1;33m/\u001b[0m\u001b[1;33m(\u001b[0m\u001b[0mtp\u001b[0m\u001b[1;33m+\u001b[0m\u001b[0mfp\u001b[0m\u001b[1;33m)\u001b[0m\u001b[1;33m\u001b[0m\u001b[1;33m\u001b[0m\u001b[0m\n\u001b[0;32m     44\u001b[0m \u001b[0mF1\u001b[0m \u001b[1;33m=\u001b[0m \u001b[1;33m(\u001b[0m\u001b[1;33m(\u001b[0m\u001b[1;36m2\u001b[0m\u001b[1;33m*\u001b[0m\u001b[0msensitivity\u001b[0m\u001b[1;33m*\u001b[0m\u001b[0mprecision\u001b[0m\u001b[1;33m)\u001b[0m\u001b[1;33m/\u001b[0m\u001b[1;33m(\u001b[0m\u001b[0msensitivity\u001b[0m\u001b[1;33m+\u001b[0m\u001b[0mprecision\u001b[0m\u001b[1;33m)\u001b[0m\u001b[1;33m)\u001b[0m\u001b[1;33m*\u001b[0m\u001b[1;36m100\u001b[0m\u001b[1;33m\u001b[0m\u001b[1;33m\u001b[0m\u001b[0m\n\u001b[1;32m---> 45\u001b[1;33m \u001b[0mall_labels_on_cpu\u001b[0m\u001b[1;33m,\u001b[0m \u001b[0mpos_preds_preds_on_cpu\u001b[0m\u001b[1;33m,\u001b[0m \u001b[0mauc_roc\u001b[0m \u001b[1;33m=\u001b[0m \u001b[0mauc_roc_calc\u001b[0m\u001b[1;33m(\u001b[0m\u001b[0mall_labels\u001b[0m\u001b[1;33m,\u001b[0m \u001b[0mpos_preds\u001b[0m\u001b[1;33m)\u001b[0m\u001b[1;33m\u001b[0m\u001b[1;33m\u001b[0m\u001b[0m\n\u001b[0m\u001b[0;32m     46\u001b[0m \u001b[1;33m\u001b[0m\u001b[0m\n\u001b[0;32m     47\u001b[0m \u001b[0mprint\u001b[0m\u001b[1;33m(\u001b[0m\u001b[1;34m'\\nTest Accuracy(mean): %f %%'\u001b[0m \u001b[1;33m%\u001b[0m \u001b[1;33m(\u001b[0m\u001b[1;36m100\u001b[0m \u001b[1;33m*\u001b[0m \u001b[0macc\u001b[0m\u001b[1;33m)\u001b[0m\u001b[1;33m)\u001b[0m\u001b[1;33m\u001b[0m\u001b[1;33m\u001b[0m\u001b[0m\n",
      "\u001b[1;32m~\\AppData\\Local\\Temp/ipykernel_11696/1422320437.py\u001b[0m in \u001b[0;36mauc_roc_calc\u001b[1;34m(all_labels, pos_preds)\u001b[0m\n\u001b[0;32m     11\u001b[0m     \u001b[1;32mfor\u001b[0m \u001b[0mtensor\u001b[0m \u001b[1;32min\u001b[0m \u001b[0mpos_preds\u001b[0m\u001b[1;33m:\u001b[0m\u001b[1;33m\u001b[0m\u001b[1;33m\u001b[0m\u001b[0m\n\u001b[0;32m     12\u001b[0m         \u001b[0mtensor_on_cpu\u001b[0m \u001b[1;33m=\u001b[0m \u001b[0mtensor\u001b[0m\u001b[1;33m.\u001b[0m\u001b[0mcpu\u001b[0m\u001b[1;33m(\u001b[0m\u001b[1;33m)\u001b[0m\u001b[1;33m.\u001b[0m\u001b[0mnumpy\u001b[0m\u001b[1;33m(\u001b[0m\u001b[1;33m)\u001b[0m\u001b[1;33m\u001b[0m\u001b[1;33m\u001b[0m\u001b[0m\n\u001b[1;32m---> 13\u001b[1;33m         \u001b[0mall_preds_on_cpu\u001b[0m\u001b[1;33m.\u001b[0m\u001b[0mappend\u001b[0m\u001b[1;33m(\u001b[0m\u001b[0mtensor_on_cpu\u001b[0m\u001b[1;33m)\u001b[0m\u001b[1;33m\u001b[0m\u001b[1;33m\u001b[0m\u001b[0m\n\u001b[0m\u001b[0;32m     14\u001b[0m \u001b[1;33m\u001b[0m\u001b[0m\n\u001b[0;32m     15\u001b[0m     \u001b[0mauc_roc\u001b[0m \u001b[1;33m=\u001b[0m \u001b[0mroc_auc_score\u001b[0m\u001b[1;33m(\u001b[0m\u001b[0mall_labels_on_cpu\u001b[0m\u001b[1;33m,\u001b[0m \u001b[0mpos_preds_on_cpu\u001b[0m\u001b[1;33m)\u001b[0m\u001b[1;33m\u001b[0m\u001b[1;33m\u001b[0m\u001b[0m\n",
      "\u001b[1;31mNameError\u001b[0m: name 'all_preds_on_cpu' is not defined"
     ]
    }
   ],
   "source": [
    "model.eval() \n",
    "\n",
    "test_loss =  0\n",
    "test_CM = 0\n",
    "\n",
    "all_labels = []\n",
    "all_preds = []\n",
    "pos_preds = []\n",
    "\n",
    "with torch.inference_mode():\n",
    "\n",
    "    for itera_no, test_data in tqdm(enumerate(test_loader)):\n",
    "\n",
    "        test_images, test_labels = test_data\n",
    "        test_images, test_labels = test_images.to(device), test_labels.to(device)\n",
    "        \n",
    "        all_labels.append(test_labels)\n",
    "        \n",
    "        test_pred_logits = model(test_images)\n",
    "\n",
    "        test_loss_batch = loss_criterion(test_pred_logits, test_labels)\n",
    "        test_loss += test_loss_batch.item()\n",
    "\n",
    "        test_class =  torch.argmax(torch.sigmoid(test_pred_logits), dim = 1)\n",
    "#         print(test_class.item(), test_labels.item())\n",
    "        \n",
    "        pos_preds.append(torch.sigmoid(test_pred_logits)[0][1])\n",
    "        all_preds.append(torch.sigmoid(test_pred_logits))\n",
    "        \n",
    "        test_CM+=confusion_matrix(test_labels.cpu(), test_class.cpu(), labels = [0,1]) \n",
    "\n",
    "test_loss = test_loss / len(test_loader)\n",
    "\n",
    "\n",
    "print(\") Test Loss : \", test_loss)\n",
    "\n",
    "tn= test_CM[0][0]\n",
    "tp=test_CM[1][1]\n",
    "fp=test_CM[0][1]\n",
    "fn=test_CM[1][0]\n",
    "acc=np.sum(np.diag(test_CM)/np.sum(test_CM))\n",
    "sensitivity=tp/(tp+fn)\n",
    "precision=tp/(tp+fp)\n",
    "F1 = ((2*sensitivity*precision)/(sensitivity+precision))*100\n",
    "all_labels_on_cpu, pos_preds_preds_on_cpu, auc_roc = auc_roc_calc(all_labels, pos_preds)\n",
    "\n",
    "print('\\nTest Accuracy(mean): %f %%' % (100 * acc))\n",
    "print()\n",
    "print('Confusion Matirx : ')\n",
    "print(test_CM)\n",
    "print('- Sensitivity : ',(tp/(tp+fn))*100)\n",
    "print('- Specificity : ',(tn/(tn+fp))*100)\n",
    "print('- Precision: ',(tp/(tp+fp))*100)\n",
    "print('- NPV: ',(tn/(tn+fn))*100)\n",
    "print('- F1 : ',F1)\n",
    "print()\n"
   ]
  },
  {
   "cell_type": "code",
   "execution_count": 23,
   "id": "12e6dffd",
   "metadata": {},
   "outputs": [
    {
     "name": "stdout",
     "output_type": "stream",
     "text": [
      "\n",
      "Test Accuracy(mean): 94.527741 %\n",
      "\n",
      "Confusion Matirx : \n",
      "[[60860  3497]\n",
      " [   36   169]]\n",
      "- Sensitivity :  82.4390243902439\n",
      "- Specificity :  94.56624764982831\n",
      "- Precision:  4.609929078014184\n",
      "- NPV:  99.94088281660535\n",
      "- F1 :  8.731593903384137\n",
      "- AUC :  0.9427285753970706\n"
     ]
    }
   ],
   "source": [
    "tn= test_CM[0][0]\n",
    "tp=test_CM[1][1]\n",
    "fp=test_CM[0][1]\n",
    "fn=test_CM[1][0]\n",
    "acc=np.sum(np.diag(test_CM)/np.sum(test_CM))\n",
    "sensitivity=tp/(tp+fn)\n",
    "precision=tp/(tp+fp)\n",
    "F1 = ((2*sensitivity*precision)/(sensitivity+precision))*100\n",
    "all_labels_on_cpu, pos_preds_preds_on_cpu, auc_roc = auc_roc_calc(all_labels, pos_preds)\n",
    "\n",
    "print('\\nTest Accuracy(mean): %f %%' % (100 * acc))\n",
    "print()\n",
    "print('Confusion Matirx : ')\n",
    "print(test_CM)\n",
    "print('- Sensitivity : ',(tp/(tp+fn))*100)\n",
    "print('- Specificity : ',(tn/(tn+fp))*100)\n",
    "print('- Precision: ',(tp/(tp+fp))*100)\n",
    "print('- NPV: ',(tn/(tn+fn))*100)\n",
    "print('- F1 : ',F1)\n",
    "print('- AUC : ' , auc_roc)"
   ]
  },
  {
   "cell_type": "code",
   "execution_count": 26,
   "id": "c780cd58",
   "metadata": {},
   "outputs": [
    {
     "name": "stdout",
     "output_type": "stream",
     "text": [
      "AUC_PR : 0.14048534892864237\n"
     ]
    },
    {
     "data": {
      "image/png": "[encoded data removed]",
      "text/plain": [
       "<Figure size 432x288 with 1 Axes>"
      ]
     },
     "metadata": {
      "needs_background": "light"
     },
     "output_type": "display_data"
    }
   ],
   "source": [
    "precision, recall, _ = precision_recall_curve(all_labels_on_cpu, pos_preds_preds_on_cpu)\n",
    "auc_pr = average_precision_score(all_labels_on_cpu, pos_preds_preds_on_cpu)\n",
    "print('AUC_PR :', auc_pr)\n",
    "\n",
    "plt.plot(recall, precision, label='PR curve (AUC = %0.2f)' % auc_pr)\n",
    "plt.xlabel('Recall')\n",
    "plt.ylabel('Precision')\n",
    "plt.legend()\n",
    "plt.show()\n"
   ]
  },
  {
   "cell_type": "markdown",
   "id": "7ecc1437",
   "metadata": {},
   "source": [
    "# Plot_Auc_Roc_curve"
   ]
  },
  {
   "cell_type": "code",
   "execution_count": null,
   "id": "a5240577",
   "metadata": {},
   "outputs": [],
   "source": [
    "fpr, tpr, thresholds = roc_curve(all_labels_on_cpu, pos_preds_preds_on_cpu)\n",
    "\n",
    "# calculate ROC AUC score\n",
    "roc_auc = roc_auc_score(all_labels_on_cpu, all_preds_on_cpu)\n",
    "\n",
    "# plot ROC curve\n",
    "plt.plot(fpr, tpr, label='ROC curve (AUC = %0.2f)' % roc_auc)\n",
    "plt.plot([0, 1], [0, 1], 'k--', label='Random guessing')\n",
    "plt.xlabel('False Positive Rate')\n",
    "plt.ylabel('True Positive Rate')\n",
    "plt.title('Receiver Operating Characteristic (ROC) Curve')\n",
    "plt.legend(loc='lower right')\n",
    "plt.show()\n"
   ]
  },
  {
   "cell_type": "markdown",
   "id": "cbfc7bf4",
   "metadata": {},
   "source": [
    "# Check_misclassified_test_data"
   ]
  },
  {
   "cell_type": "code",
   "execution_count": null,
   "id": "2f6c8ac9",
   "metadata": {},
   "outputs": [],
   "source": [
    "model.eval() \n",
    "\n",
    "test_loss =  0\n",
    "test_CM = 0\n",
    "\n",
    "with torch.inference_mode():\n",
    "\n",
    "    for itera_no, test_data in tqdm(enumerate(test_loader)):\n",
    "\n",
    "        test_images, test_labels = test_data\n",
    "        test_images, test_labels = test_images.to(device), test_labels.to(device)\n",
    "\n",
    "        test_pred_logits = model(test_images)\n",
    "\n",
    "        test_class =  torch.argmax(torch.sigmoid(test_pred_logits), dim = 1)\n",
    "#         print(test_class.item(), test_labels.item())\n",
    "        \n",
    "        test_CM+=confusion_matrix(test_labels.cpu(), test_class.cpu(), labels = [0,1]) \n",
    "        \n",
    "#         if test_labels == 1 :\n",
    "        if test_labels != test_class and test_labels == 0:\n",
    "            \n",
    "            print(itera_no)\n",
    "        \n",
    "print(test_CM)\n",
    "\n"
   ]
  },
  {
   "cell_type": "code",
   "execution_count": null,
   "id": "c15b116c",
   "metadata": {},
   "outputs": [],
   "source": [
    "arr_fn = [8,13,15,18,24,59,60,70,79,82,83,84,100,104,121,137,139,140,141]"
   ]
  },
  {
   "cell_type": "code",
   "execution_count": null,
   "id": "9e6b109d",
   "metadata": {},
   "outputs": [],
   "source": [
    "arr_fp = [41,97,104,125,127,218,235,253,264,279,286,299,303,311,321,328,336,339,340,383,395,476,493,527,545]"
   ]
  }
 ],
 "metadata": {
  "kernelspec": {
   "display_name": "Python 3 (ipykernel)",
   "language": "python",
   "name": "python3"
  },
  "language_info": {
   "codemirror_mode": {
    "name": "ipython",
    "version": 3
   },
   "file_extension": ".py",
   "mimetype": "text/x-python",
   "name": "python",
   "nbconvert_exporter": "python",
   "pygments_lexer": "ipython3",
   "version": "3.8.12"
  }
 },
 "nbformat": 4,
 "nbformat_minor": 5
}
