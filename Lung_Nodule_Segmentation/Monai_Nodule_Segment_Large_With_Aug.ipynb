{
 "cells": [
  {
   "cell_type": "code",
   "execution_count": 1,
   "id": "892440b8",
   "metadata": {},
   "outputs": [],
   "source": [
    "from monai.utils import first, set_determinism\n",
    "from monai.transforms import (\n",
    "    AsDiscrete,\n",
    "    AsDiscreted,\n",
    "    AddChanneld,\n",
    "    EnsureChannelFirstd,\n",
    "    Compose,\n",
    "    CropForegroundd,\n",
    "    LoadImaged,\n",
    "    Orientationd,\n",
    "    RandCropByPosNegLabeld,\n",
    "    SaveImaged,\n",
    "    ScaleIntensityRanged,\n",
    "    RandAffined,\n",
    "    Spacingd,\n",
    "    Invertd,\n",
    "    Resized,\n",
    "    RandRotated,\n",
    "    Rand3DElasticd,\n",
    "    RandGaussianNoised,\n",
    "    ToTensord,\n",
    "    EnsureTyped,\n",
    "    EnsureType,\n",
    "    Activations\n",
    ")\n",
    "\n",
    "# from monai.handlers.utils import from_engine\n",
    "from monai.networks.nets import UNet\n",
    "from monai.networks.layers import Norm\n",
    "from monai.metrics import DiceMetric\n",
    "from monai.losses import DiceLoss\n",
    "from monai.inferers import sliding_window_inference\n",
    "from monai.data import CacheDataset, DataLoader, Dataset, decollate_batch\n",
    "from monai.config import print_config\n",
    "from monai.apps import download_and_extract\n",
    "import torch\n",
    "import matplotlib.pyplot as plt\n",
    "import tempfile\n",
    "import shutil\n",
    "import os\n",
    "import glob\n",
    "import SimpleITK as sitk\n",
    "import numpy as np\n",
    "from tqdm.notebook import tqdm, trange\n",
    "from livelossplot import PlotLosses\n",
    "from torchtools.optim import RangerLars # Over9000\n"
   ]
  },
  {
   "cell_type": "code",
   "execution_count": 2,
   "id": "b59398e5",
   "metadata": {},
   "outputs": [],
   "source": [
    "root_dir =  'E:/Tanvir Mehedi/Nodule_greater_than_10mm/Saved_Models/'"
   ]
  },
  {
   "cell_type": "code",
   "execution_count": 3,
   "id": "627713ea",
   "metadata": {},
   "outputs": [
    {
     "name": "stdout",
     "output_type": "stream",
     "text": [
      "Train files :  0 \n",
      "Validation files :  0\n"
     ]
    }
   ],
   "source": [
    "data_dir = 'E:/Tanvir Mehedi/Nodule_greater_than_10mm/'\n",
    "\n",
    "train_images = sorted(\n",
    "    glob.glob(os.path.join(data_dir, \"Only_Lung_Portion\", \"*.nii\")))\n",
    "\n",
    "train_labels = sorted(\n",
    "    glob.glob(os.path.join(data_dir, \"Spherical_Nodule_Mask\", \"*.nii\")))\n",
    "\n",
    "data_dicts = [\n",
    "    {\"image\": image_name, \"label\": label_name}\n",
    "    for image_name, label_name in zip(train_images, train_labels)\n",
    "]\n",
    "\n",
    "train_files, val_files = data_dicts[:20], data_dicts[20:26]\n",
    "\n",
    "print('Train files : ', len(train_files), '\\nValidation files : ', len(val_files))"
   ]
  },
  {
   "cell_type": "code",
   "execution_count": 4,
   "id": "b87952c4",
   "metadata": {},
   "outputs": [],
   "source": [
    "set_determinism(seed=0)"
   ]
  },
  {
   "cell_type": "code",
   "execution_count": 5,
   "id": "1090ec17",
   "metadata": {},
   "outputs": [],
   "source": [
    "train_transforms = Compose(\n",
    "    [\n",
    "        LoadImaged(keys=[\"image\", \"label\"]),\n",
    "        EnsureChannelFirstd(keys=[\"image\", \"label\"]),\n",
    "        ScaleIntensityRanged(\n",
    "            keys=[\"image\"], a_min=-1200, a_max=600,\n",
    "            b_min=0.0, b_max=1.0, clip=True),\n",
    "        Orientationd(keys=[\"image\", \"label\"], axcodes= 'SPL'),\n",
    "        Spacingd(keys=[\"image\", \"label\"], pixdim=(\n",
    "            1., 1., 1.), mode=(\"bilinear\", \"nearest\")),\n",
    "        CropForegroundd(keys=[\"image\", \"label\"], source_key=\"image\"),\n",
    "        RandCropByPosNegLabeld(\n",
    "            keys=[\"image\", \"label\"],\n",
    "            label_key=\"label\",\n",
    "            spatial_size=(64, 64, 64),\n",
    "            pos=1,\n",
    "            neg=0,\n",
    "            num_samples=4,\n",
    "            image_key=\"image\",\n",
    "            image_threshold=0,\n",
    "        ),\n",
    "        RandRotated(keys=[\"image\", \"label\"], range_x=np.pi/12, range_y=np.pi/12, range_z = np.pi/6, prob=0.5, keep_size=True, \n",
    "                    mode=[\"bilinear\", \"nearest\"],),\n",
    "        \n",
    "        RandGaussianNoised(keys=['image'], prob=0.25, mean=0, std=0.1),\n",
    "        \n",
    "        Rand3DElasticd(keys=[\"image\", \"label\"], sigma_range = [5,7], magnitude_range = [0,1], \n",
    "                       prob = 0.25, mode=[\"bilinear\", \"nearest\"]),\n",
    "        \n",
    "        ToTensord(keys=[\"image\", \"label\"]),\n",
    "    ]\n",
    ")\n",
    "\n",
    "val_transforms = Compose(\n",
    "    [\n",
    "        LoadImaged(keys=[\"image\", \"label\"]),\n",
    "        EnsureChannelFirstd(keys=[\"image\", \"label\"]),\n",
    "        ScaleIntensityRanged(\n",
    "            keys=[\"image\"], a_min=-1200, a_max=600,\n",
    "            b_min=0.0, b_max=1.0, clip=True),\n",
    "        Orientationd(keys=[\"image\", \"label\"], axcodes=\"SPL\"),\n",
    "        Spacingd(keys=[\"image\", \"label\"], pixdim=(\n",
    "            1., 1., 1.), mode=(\"bilinear\", \"nearest\")),\n",
    "        CropForegroundd(keys=[\"image\", \"label\"], source_key=\"image\"),\n",
    "        \n",
    "        ToTensord(keys=[\"image\", \"label\"]),\n",
    "    ]\n",
    ")"
   ]
  },
  {
   "cell_type": "code",
   "execution_count": 6,
   "id": "716ab053",
   "metadata": {},
   "outputs": [
    {
     "ename": "TypeError",
     "evalue": "'NoneType' object is not subscriptable",
     "output_type": "error",
     "traceback": [
      "\u001b[1;31m---------------------------------------------------------------------------\u001b[0m",
      "\u001b[1;31mTypeError\u001b[0m                                 Traceback (most recent call last)",
      "\u001b[1;32m~\\AppData\\Local\\Temp/ipykernel_7984/1252161655.py\u001b[0m in \u001b[0;36m<module>\u001b[1;34m\u001b[0m\n\u001b[0;32m      3\u001b[0m \u001b[0mcheck_loader\u001b[0m \u001b[1;33m=\u001b[0m \u001b[0mDataLoader\u001b[0m\u001b[1;33m(\u001b[0m\u001b[0mcheck_ds\u001b[0m\u001b[1;33m,\u001b[0m \u001b[0mbatch_size\u001b[0m\u001b[1;33m=\u001b[0m\u001b[1;36m1\u001b[0m\u001b[1;33m)\u001b[0m\u001b[1;33m\u001b[0m\u001b[1;33m\u001b[0m\u001b[0m\n\u001b[0;32m      4\u001b[0m \u001b[0mcheck_data\u001b[0m \u001b[1;33m=\u001b[0m \u001b[0mfirst\u001b[0m\u001b[1;33m(\u001b[0m\u001b[0mcheck_loader\u001b[0m\u001b[1;33m)\u001b[0m\u001b[1;33m\u001b[0m\u001b[1;33m\u001b[0m\u001b[0m\n\u001b[1;32m----> 5\u001b[1;33m \u001b[0mimage\u001b[0m\u001b[1;33m,\u001b[0m \u001b[0mlabel\u001b[0m \u001b[1;33m=\u001b[0m \u001b[1;33m(\u001b[0m\u001b[0mcheck_data\u001b[0m\u001b[1;33m[\u001b[0m\u001b[1;34m\"image\"\u001b[0m\u001b[1;33m]\u001b[0m\u001b[1;33m,\u001b[0m \u001b[0mcheck_data\u001b[0m\u001b[1;33m[\u001b[0m\u001b[1;34m\"label\"\u001b[0m\u001b[1;33m]\u001b[0m\u001b[1;33m)\u001b[0m\u001b[1;33m\u001b[0m\u001b[1;33m\u001b[0m\u001b[0m\n\u001b[0m\u001b[0;32m      6\u001b[0m \u001b[0mprint\u001b[0m\u001b[1;33m(\u001b[0m\u001b[1;34mf\"image shape: {image.shape}, label shape: {label.shape}\"\u001b[0m\u001b[1;33m)\u001b[0m\u001b[1;33m\u001b[0m\u001b[1;33m\u001b[0m\u001b[0m\n",
      "\u001b[1;31mTypeError\u001b[0m: 'NoneType' object is not subscriptable"
     ]
    }
   ],
   "source": [
    "check_ds = Dataset(data=train_files, transform=train_transforms)\n",
    "#check_ds = Dataset(data=train_files)\n",
    "check_loader = DataLoader(check_ds, batch_size=1)\n",
    "check_data = first(check_loader)\n",
    "image, label = (check_data[\"image\"], check_data[\"label\"])\n",
    "print(f\"image shape: {image.shape}, label shape: {label.shape}\")\n"
   ]
  },
  {
   "cell_type": "code",
   "execution_count": 16,
   "id": "d6fe3a74",
   "metadata": {},
   "outputs": [
    {
     "ename": "NameError",
     "evalue": "name 'image' is not defined",
     "output_type": "error",
     "traceback": [
      "\u001b[1;31m---------------------------------------------------------------------------\u001b[0m",
      "\u001b[1;31mNameError\u001b[0m                                 Traceback (most recent call last)",
      "\u001b[1;32m~\\AppData\\Local\\Temp/ipykernel_11912/1440042261.py\u001b[0m in \u001b[0;36m<module>\u001b[1;34m\u001b[0m\n\u001b[0;32m      1\u001b[0m \u001b[0ma\u001b[0m \u001b[1;33m=\u001b[0m \u001b[1;36m3\u001b[0m\u001b[1;33m\u001b[0m\u001b[1;33m\u001b[0m\u001b[0m\n\u001b[0;32m      2\u001b[0m \u001b[0mplt\u001b[0m\u001b[1;33m.\u001b[0m\u001b[0mfigure\u001b[0m\u001b[1;33m(\u001b[0m\u001b[1;34m\"check\"\u001b[0m\u001b[1;33m,\u001b[0m \u001b[1;33m(\u001b[0m\u001b[1;36m12\u001b[0m\u001b[1;33m,\u001b[0m \u001b[1;36m6\u001b[0m\u001b[1;33m)\u001b[0m\u001b[1;33m)\u001b[0m\u001b[1;33m\u001b[0m\u001b[1;33m\u001b[0m\u001b[0m\n\u001b[1;32m----> 3\u001b[1;33m \u001b[1;32mfor\u001b[0m \u001b[0mi\u001b[0m \u001b[1;32min\u001b[0m \u001b[0mrange\u001b[0m\u001b[1;33m(\u001b[0m\u001b[0mimage\u001b[0m\u001b[1;33m.\u001b[0m\u001b[0mshape\u001b[0m\u001b[1;33m[\u001b[0m\u001b[1;36m2\u001b[0m\u001b[1;33m]\u001b[0m\u001b[1;33m)\u001b[0m\u001b[1;33m:\u001b[0m\u001b[1;33m\u001b[0m\u001b[1;33m\u001b[0m\u001b[0m\n\u001b[0m\u001b[0;32m      4\u001b[0m     \u001b[0mprint\u001b[0m\u001b[1;33m(\u001b[0m\u001b[1;34m'image'\u001b[0m\u001b[1;33m,\u001b[0m \u001b[0mi\u001b[0m\u001b[1;33m)\u001b[0m\u001b[1;33m\u001b[0m\u001b[1;33m\u001b[0m\u001b[0m\n\u001b[0;32m      5\u001b[0m     \u001b[0mplt\u001b[0m\u001b[1;33m.\u001b[0m\u001b[0msubplot\u001b[0m\u001b[1;33m(\u001b[0m\u001b[1;36m1\u001b[0m\u001b[1;33m,\u001b[0m \u001b[1;36m2\u001b[0m\u001b[1;33m,\u001b[0m \u001b[1;36m1\u001b[0m\u001b[1;33m)\u001b[0m\u001b[1;33m\u001b[0m\u001b[1;33m\u001b[0m\u001b[0m\n",
      "\u001b[1;31mNameError\u001b[0m: name 'image' is not defined"
     ]
    },
    {
     "data": {
      "text/plain": [
       "<Figure size 864x432 with 0 Axes>"
      ]
     },
     "metadata": {},
     "output_type": "display_data"
    }
   ],
   "source": [
    "a = 3\n",
    "plt.figure(\"check\", (12, 6))\n",
    "for i in range(image.shape[2]):\n",
    "    print('image', i)\n",
    "    plt.subplot(1, 2, 1)\n",
    "    plt.title(\"image\")\n",
    "    plt.imshow(image[a,0,i, :, :], cmap=\"gray\")\n",
    "    plt.subplot(1, 2, 2)\n",
    "    plt.title(\"label\")\n",
    "    plt.imshow(label[a,0,i, :, :],  cmap=\"gray\")\n",
    "    plt.show()"
   ]
  },
  {
   "cell_type": "code",
   "execution_count": 6,
   "id": "9a1f9b7c",
   "metadata": {},
   "outputs": [],
   "source": [
    "# Model Parameters\n",
    "batch_size = 1\n",
    "num_workers = 0\n",
    "device = torch.device('cuda') if torch.cuda.is_available() else torch.device('cpu')\n"
   ]
  },
  {
   "cell_type": "code",
   "execution_count": 7,
   "id": "90236fb3",
   "metadata": {},
   "outputs": [],
   "source": [
    "# Train\n",
    "train_ds = Dataset(data = train_files, transform = train_transforms)\n",
    "train_loader = DataLoader(train_ds, batch_size = batch_size, shuffle = True, num_workers = num_workers)\n",
    "\n",
    "# Validation\n",
    "val_ds = Dataset(data = val_files, transform = val_transforms)\n",
    "val_loader = DataLoader(val_ds, batch_size = 1, num_workers = num_workers)\n",
    "\n",
    "# Test\n",
    "# test_ds = Dataset(data = test_files, transform = test_transforms)\n",
    "# test_loader = DataLoader(test_ds, batch_size = batch_size, num_workers = num_workers)\n"
   ]
  },
  {
   "cell_type": "code",
   "execution_count": 8,
   "id": "25d77399",
   "metadata": {},
   "outputs": [],
   "source": [
    "model = UNet(\n",
    "    spatial_dims = 3,\n",
    "    in_channels = 1,\n",
    "    out_channels = 1,\n",
    "#     channels = (32, 64, 128, 256, 512),\n",
    "    channels=(16, 32, 64, 128, 256),\n",
    "    strides = (2, 2, 2, 2),\n",
    "    num_res_units = 2,\n",
    "    norm = Norm.BATCH,\n",
    ").to(device).type(torch.float16)\n"
   ]
  },
  {
   "cell_type": "code",
   "execution_count": 9,
   "id": "574a740b",
   "metadata": {},
   "outputs": [],
   "source": [
    "# loss_function = DiceLoss(to_onehot_y = False, sigmoid = True)\n",
    "loss_function = DiceLoss(to_onehot_y = False, sigmoid = True)\n",
    "\n",
    "optimizer = torch.optim.Adam(model.parameters(), 1e-3)\n",
    "# scheduler = torch.optim.lr_scheduler.CyclicLR(optimizer, base_lr=0.0001, max_lr=0.01,step_size_up=5,\n",
    "#                                               mode=\"triangular2\", cycle_momentum = False)\n",
    "# optimizer = RangerLars(model.parameters(), 1e-2)\n",
    "\n",
    "dice_metric = DiceMetric(include_background = False, reduction = \"mean\")\n"
   ]
  },
  {
   "cell_type": "code",
   "execution_count": 10,
   "id": "85c86eae",
   "metadata": {},
   "outputs": [],
   "source": [
    "def save_checkpoint(state, filename = 'E:/Tanvir Mehedi/Nodule_greater_than_10mm/Saved_Models/nodule_seg_3d_large_with_aug.pt.tar'):\n",
    "    \n",
    "    print('=> Saving Checkpoint')\n",
    "    torch.save(state, filename)\n",
    "    "
   ]
  },
  {
   "cell_type": "code",
   "execution_count": 11,
   "id": "bad849ae",
   "metadata": {},
   "outputs": [],
   "source": [
    "max_epochs = 150"
   ]
  },
  {
   "cell_type": "code",
   "execution_count": 12,
   "id": "943621f2",
   "metadata": {},
   "outputs": [],
   "source": [
    "val_interval = 2\n",
    "best_metric = -1\n",
    "best_metric_epoch = -1\n",
    "epoch_loss_values = []\n",
    "metric_values = []\n",
    "post_pred = Compose([Activations(sigmoid=True)])\n"
   ]
  },
  {
   "cell_type": "code",
   "execution_count": 13,
   "id": "fd53467f",
   "metadata": {},
   "outputs": [],
   "source": [
    "liveloss = PlotLosses()\n"
   ]
  },
  {
   "cell_type": "code",
   "execution_count": 15,
   "id": "a8d09364",
   "metadata": {
    "scrolled": true
   },
   "outputs": [
    {
     "data": {
      "image/png": "[encoded data removed]",
      "text/plain": [
       "<Figure size 864x576 with 2 Axes>"
      ]
     },
     "metadata": {
      "needs_background": "light"
     },
     "output_type": "display_data"
    },
    {
     "name": "stdout",
     "output_type": "stream",
     "text": [
      "Train Dice Loss\n",
      "\tTrain Dice Loss  \t (min:    0.262, max:    0.911, cur:    0.343)\n",
      "Validation Dice Score\n",
      "\tValidation Dice Score \t (min:    0.021, max:    0.329, cur:    0.169)\n"
     ]
    }
   ],
   "source": [
    "for epoch in range(max_epochs):\n",
    "    \n",
    "    logs = {}\n",
    "    \n",
    "    print(\"-\" * 10)\n",
    "    print(f\"epoch {epoch + 1}/{max_epochs}\")\n",
    "    \n",
    "    model.train()\n",
    "    epoch_loss = 0\n",
    "    step = 0\n",
    "    \n",
    "    for batch_data in train_loader:\n",
    "        step += 1\n",
    "        inputs, labels = (\n",
    "            batch_data[\"image\"].to(device).type(torch.float16),\n",
    "            batch_data[\"label\"].to(device).type(torch.float16),\n",
    "        )\n",
    "        \n",
    "        optimizer.zero_grad()\n",
    "        outputs = model(inputs)\n",
    "        loss = loss_function(outputs, labels)\n",
    "        loss.backward()\n",
    "        \n",
    "        torch.nn.utils.clip_grad_norm_(model.parameters(), max_norm = 2. , norm_type=2.0)\n",
    "        optimizer.step()\n",
    "        epoch_loss += loss.item()\n",
    "        print(\n",
    "            f\"{step}/{len(train_ds) // train_loader.batch_size}, \"\n",
    "            f\"train_loss: {loss.item():.4f}\")\n",
    "    \n",
    "    epoch_loss /= step\n",
    "    epoch_loss_values.append(epoch_loss)\n",
    "    \n",
    "    print(f\"epoch {epoch + 1} average loss: {epoch_loss:.4f}\")\n",
    "\n",
    "    \n",
    "    if (epoch + 1) % val_interval == 0:\n",
    "        \n",
    "        model.eval()\n",
    "        \n",
    "        with torch.no_grad():\n",
    "            \n",
    "            for val_data in val_loader:\n",
    "                val_inputs, val_labels = (\n",
    "                    val_data[\"image\"].to(device),\n",
    "                    val_data[\"label\"].to(device),\n",
    "                )\n",
    "\n",
    "                roi_size = (64, 64, 64)\n",
    "                sw_batch_size = 1\n",
    "                val_outputs = sliding_window_inference(val_inputs, roi_size, sw_batch_size, model)\n",
    "                val_outputs = [post_pred(i) for i in decollate_batch(val_outputs)]\n",
    "#                 val_labels = [post_label(i) for i in decollate_batch(val_labels)]\n",
    "                dice_metric(y_pred = val_outputs, y = val_labels)\n",
    "                \n",
    "\n",
    "            # aggregate the final mean dice result\n",
    "            metric = dice_metric.aggregate().item()\n",
    "            # reset the status for next validation round\n",
    "            dice_metric.reset()\n",
    "\n",
    "            metric_values.append(metric)\n",
    "            \n",
    "            if metric > best_metric:\n",
    "                best_metric = metric\n",
    "                best_metric_epoch = epoch + 1\n",
    "                \n",
    "                checkpoint = {'model_state' : model.state_dict(), 'optimizer_state' : optimizer.state_dict(), \n",
    "                              'Dice_Score' : metric } \n",
    "                save_checkpoint(checkpoint)\n",
    "                \n",
    "                torch.save(model.state_dict(), os.path.join(\n",
    "                    root_dir, \"best_metric_model_with_aug.pth\"))\n",
    "                \n",
    "                print(\"saved new best metric model\")\n",
    "            \n",
    "            print(\n",
    "                f\"current epoch: {epoch + 1} current mean dice: {metric:.4f}\"\n",
    "                f\"\\nbest mean dice: {best_metric:.4f} \"\n",
    "                f\"at epoch: {best_metric_epoch}\"\n",
    "            )\n",
    "            logs['Validation' + ' Dice Score'] = metric\n",
    "            \n",
    "    logs['Train' + ' Dice Loss'] = epoch_loss\n",
    "    \n",
    "    liveloss.update(logs)\n",
    "    liveloss.draw()\n"
   ]
  },
  {
   "cell_type": "code",
   "execution_count": null,
   "id": "2a422d61",
   "metadata": {},
   "outputs": [],
   "source": [
    "metric"
   ]
  },
  {
   "cell_type": "code",
   "execution_count": null,
   "id": "466bd2cd",
   "metadata": {},
   "outputs": [],
   "source": [
    "# torch.save(model.state_dict(), os.path.join(\n",
    "#                     root_dir, \"val_score_68.5_for_50_55.pth\"))"
   ]
  },
  {
   "cell_type": "code",
   "execution_count": null,
   "id": "eef4db3b",
   "metadata": {},
   "outputs": [],
   "source": [
    "np.save('epoch_loss_values.npy', epoch_loss_values)\n",
    "np.save('metric_values.npy', metric_values)"
   ]
  },
  {
   "cell_type": "code",
   "execution_count": null,
   "id": "f15a2ec6",
   "metadata": {},
   "outputs": [],
   "source": [
    "plt.figure(\"train\", (12, 6))\n",
    "plt.subplot(1, 2, 1)\n",
    "plt.title(\"Epoch Average Loss\")\n",
    "x = [i + 1 for i in range(len(epoch_loss_values))]\n",
    "y = epoch_loss_values\n",
    "plt.xlabel(\"epoch\")\n",
    "plt.plot(x, y)\n",
    "plt.subplot(1, 2, 2)\n",
    "plt.title(\"Val Mean Dice\")\n",
    "x = [val_interval * (i + 1) for i in range(len(metric_values))]\n",
    "y = metric_values\n",
    "plt.xlabel(\"epoch\")\n",
    "plt.plot(x, y)\n",
    "plt.show()"
   ]
  },
  {
   "cell_type": "markdown",
   "id": "44dff9fa",
   "metadata": {},
   "source": [
    "# Load Saved Model"
   ]
  },
  {
   "cell_type": "code",
   "execution_count": 14,
   "id": "1000fdb3",
   "metadata": {},
   "outputs": [
    {
     "data": {
      "text/plain": [
       "<All keys matched successfully>"
      ]
     },
     "execution_count": 14,
     "metadata": {},
     "output_type": "execute_result"
    }
   ],
   "source": [
    "path = root_dir + 'best_metric_model_with_aug.pth'\n",
    "model.load_state_dict(torch.load(path))\n"
   ]
  },
  {
   "cell_type": "code",
   "execution_count": null,
   "id": "612614bc",
   "metadata": {},
   "outputs": [],
   "source": [
    "test_files = data_dicts[50:100]"
   ]
  },
  {
   "cell_type": "code",
   "execution_count": null,
   "id": "3b90da88",
   "metadata": {},
   "outputs": [],
   "source": [
    "test_transforms = Compose(\n",
    "    [\n",
    "        LoadImaged(keys=[\"image\", \"label\"]),\n",
    "        EnsureChannelFirstd(keys=[\"image\", \"label\"]),\n",
    "        ScaleIntensityRanged(\n",
    "            keys=[\"image\"], a_min=-1200, a_max=600,\n",
    "            b_min=0.0, b_max=1.0, clip=True),\n",
    "        Orientationd(keys=[\"image\", \"label\"], axcodes=\"SPL\"),\n",
    "        Spacingd(keys=[\"image\", \"label\"], pixdim=(\n",
    "            1., 1., 1.), mode=(\"bilinear\", \"nearest\")),\n",
    "        CropForegroundd(keys=[\"image\", \"label\"], source_key=\"image\"),\n",
    "        \n",
    "        ToTensord(keys=[\"image\", \"label\"]),\n",
    "    ]\n",
    ")\n",
    "    \n",
    "test_ds = Dataset(data = test_files, transform = test_transforms)\n",
    "test_loader = DataLoader(test_ds, batch_size = batch_size, num_workers = num_workers)"
   ]
  },
  {
   "cell_type": "code",
   "execution_count": null,
   "id": "3130f59e",
   "metadata": {},
   "outputs": [],
   "source": [
    "inputs_all = []\n",
    "preds_all = []\n",
    "labels_all = []\n",
    "\n",
    "model.eval()\n",
    "\n",
    "with torch.no_grad():\n",
    "\n",
    "    for val_data in test_loader:\n",
    "        val_inputs, val_labels = (\n",
    "            val_data[\"image\"].to(device),\n",
    "            val_data[\"label\"].to(device),\n",
    "        )\n",
    "# -----------\n",
    "        # compute metric for current iteration  \n",
    "#                 val_outputs = model(val_inputs)\n",
    "#                 val_outputs = torch.sigmoid(val_outputs)>0.5\n",
    "# ----------\n",
    "        roi_size = (64, 64, 64)\n",
    "        sw_batch_size = 1\n",
    "        val_outputs = sliding_window_inference(val_inputs, roi_size, sw_batch_size, model)\n",
    "#         loss = loss_function(val_outputs, val_labels)\n",
    "#         print(loss)\n",
    "        val_outputs = [post_pred(i) for i in decollate_batch(val_outputs)]\n",
    "#         val_labels = [post_label(i) for i in decollate_batch(val_labels)]\n",
    "        \n",
    "        dice_metric(y_pred = val_outputs, y = val_labels)\n",
    "        \n",
    "        inputs_all.append(val_inputs)\n",
    "        preds_all.append(val_outputs)\n",
    "        labels_all.append(val_labels)\n",
    "\n",
    "    # aggregate the final mean dice result\n",
    "    metric = dice_metric.aggregate().item()\n",
    "    \n",
    "    print(metric)\n"
   ]
  },
  {
   "cell_type": "markdown",
   "id": "5f1e58d2",
   "metadata": {},
   "source": [
    "# Visualize output"
   ]
  },
  {
   "cell_type": "code",
   "execution_count": null,
   "id": "63ec4053",
   "metadata": {},
   "outputs": [],
   "source": [
    "type(val_outputs)"
   ]
  },
  {
   "cell_type": "code",
   "execution_count": null,
   "id": "54024344",
   "metadata": {},
   "outputs": [],
   "source": [
    "len(inputs_all)"
   ]
  },
  {
   "cell_type": "code",
   "execution_count": null,
   "id": "0fd0feaf",
   "metadata": {},
   "outputs": [],
   "source": [
    "preds_all[0][0].shape"
   ]
  },
  {
   "cell_type": "code",
   "execution_count": null,
   "id": "deadd774",
   "metadata": {},
   "outputs": [],
   "source": [
    "val_labels[0][0].shape"
   ]
  },
  {
   "cell_type": "code",
   "execution_count": null,
   "id": "c488e0af",
   "metadata": {},
   "outputs": [],
   "source": [
    "val_outputs[0][0].shape"
   ]
  },
  {
   "cell_type": "code",
   "execution_count": null,
   "id": "b6046819",
   "metadata": {},
   "outputs": [],
   "source": [
    "len(inputs_all)"
   ]
  },
  {
   "cell_type": "code",
   "execution_count": null,
   "id": "dd511edf",
   "metadata": {},
   "outputs": [],
   "source": [
    "import matplotlib.pyplot as plt\n",
    "\n",
    "a = 3\n",
    "\n",
    "inputs = inputs_all[a][0][0].detach().cpu()\n",
    "preds = preds_all[a][0][0].detach().cpu()\n",
    "labels = labels_all[a][0][0].detach().cpu()\n",
    "\n",
    "for i in range(preds.shape[0]):\n",
    "    \n",
    "    plt.figure(figsize=(16,16))\n",
    "    print(\"image %d\" % i)\n",
    "    \n",
    "    plt.subplot(1, 3, 1)\n",
    "    plt.title(\"Input Image\")\n",
    "    plt.imshow(inputs[i],  cmap=\"gray\")\n",
    "    \n",
    "    plt.subplot(1, 3, 2)\n",
    "    plt.title(\"Label\")\n",
    "    plt.imshow(labels[i],  cmap=\"gray\")\n",
    "    \n",
    "    plt.subplot(1, 3, 3)\n",
    "    plt.title(\"Prediction\")\n",
    "    plt.imshow(preds[i], cmap=\"gray\")\n",
    "    plt.show()\n",
    "    \n",
    "    "
   ]
  },
  {
   "cell_type": "code",
   "execution_count": null,
   "id": "a09883d3",
   "metadata": {},
   "outputs": [],
   "source": [
    "val_transforms = Compose(\n",
    "    [\n",
    "        LoadImaged(keys=[\"image\", \"label\"]),\n",
    "        EnsureChannelFirstd(keys=[\"image\", \"label\"]),\n",
    "        ScaleIntensityRanged(\n",
    "            keys=[\"image\"], a_min=-1200, a_max=600,\n",
    "            b_min=0.0, b_max=1.0, clip=True),\n",
    "        Orientationd(keys=[\"image\", \"label\"], axcodes=\"SPL\"),\n",
    "        Spacingd(keys=[\"image\", \"label\"], pixdim=(\n",
    "            1., 1., 1.), mode=(\"bilinear\", \"nearest\")),\n",
    "        CropForegroundd(keys=[\"image\", \"label\"], source_key=\"image\"),\n",
    "        RandCropByPosNegLabeld(\n",
    "            keys=[\"image\", \"label\"],\n",
    "            label_key=\"label\",\n",
    "            spatial_size=(64, 64, 64),\n",
    "            pos=1,\n",
    "            neg=1,\n",
    "            num_samples=4,\n",
    "            image_key=\"image\",\n",
    "            image_threshold=0),\n",
    "        ToTensord(keys=[\"image\", \"label\"]),\n",
    "    ]\n",
    ")\n"
   ]
  },
  {
   "cell_type": "code",
   "execution_count": null,
   "id": "b57b1638",
   "metadata": {},
   "outputs": [],
   "source": [
    "val_ds = Dataset(data = val_files, transform = val_transforms)\n",
    "val_loader = DataLoader(val_ds, batch_size = 1, num_workers = num_workers)\n"
   ]
  },
  {
   "cell_type": "code",
   "execution_count": null,
   "id": "7ad92002",
   "metadata": {},
   "outputs": [],
   "source": [
    "model.eval()\n",
    "        \n",
    "with torch.no_grad():\n",
    "\n",
    "    for val_data in val_loader:\n",
    "        val_inputs, val_labels = (\n",
    "            val_data[\"image\"].to(device),\n",
    "            val_data[\"label\"].to(device),\n",
    "        )\n",
    "        val_outputs = model(val_inputs)\n",
    "        loss = loss_function(val_outputs, val_labels)\n",
    "        \n",
    "        val_outputs = torch.sigmoid(val_outputs)>0.5\n",
    "        dice_metric(y_pred = val_outputs, y = val_labels)\n",
    "        \n",
    "        print(loss)\n",
    "        \n",
    "    metric = dice_metric.aggregate().item()\n",
    "    \n",
    "    print(metric)\n"
   ]
  },
  {
   "cell_type": "code",
   "execution_count": null,
   "id": "6271f197",
   "metadata": {},
   "outputs": [],
   "source": [
    "# Check new CT scans"
   ]
  },
  {
   "cell_type": "code",
   "execution_count": null,
   "id": "08083615",
   "metadata": {},
   "outputs": [],
   "source": [
    "test_transforms = Compose(\n",
    "    [\n",
    "        LoadImaged(keys=[\"image\", \"label\"]),\n",
    "        EnsureChannelFirstd(keys=[\"image\", \"label\"]),\n",
    "        ScaleIntensityRanged(\n",
    "            keys=[\"image\"], a_min=-1200, a_max=600,\n",
    "            b_min=0.0, b_max=1.0, clip=True),\n",
    "        Orientationd(keys=[\"image\", \"label\"], axcodes=\"SPL\"),\n",
    "        Spacingd(keys=[\"image\", \"label\"], pixdim=(\n",
    "            1., 1., 1.), mode=(\"bilinear\", \"nearest\")),\n",
    "        CropForegroundd(keys=[\"image\", \"label\"], source_key=\"image\"),\n",
    "        \n",
    "        ToTensord(keys=[\"image\", \"label\"]),\n",
    "    ]\n",
    ")\n",
    "\n",
    "test_ds = Dataset(data = test_files, transform = test_transforms)\n",
    "test_loader = DataLoader(test_ds, batch_size = 1, num_workers = num_workers)"
   ]
  },
  {
   "cell_type": "code",
   "execution_count": null,
   "id": "2a07d5a3",
   "metadata": {},
   "outputs": [],
   "source": [
    "model.eval()\n",
    "        \n",
    "with torch.no_grad():\n",
    "\n",
    "    for test_data in test_loader:\n",
    "        test_inputs, test_labels = (\n",
    "            test_data[\"image\"].to(device),\n",
    "            test_data[\"label\"].to(device),\n",
    "        )\n",
    "        test_outputs = model(test_inputs)\n",
    "        loss = loss_function(test_outputs, test_labels)\n",
    "        \n",
    "        test_outputs = torch.sigmoid(test_outputs)>0.5\n",
    "        dice_metric(y_pred = test_outputs, y = test_labels)\n",
    "        \n",
    "        print(loss)\n",
    "        \n",
    "    metric = dice_metric.aggregate().item()\n",
    "    \n",
    "    print(metric)\n"
   ]
  }
 ],
 "metadata": {
  "kernelspec": {
   "display_name": "Python 3 (ipykernel)",
   "language": "python",
   "name": "python3"
  },
  "language_info": {
   "codemirror_mode": {
    "name": "ipython",
    "version": 3
   },
   "file_extension": ".py",
   "mimetype": "text/x-python",
   "name": "python",
   "nbconvert_exporter": "python",
   "pygments_lexer": "ipython3",
   "version": "3.8.12"
  }
 },
 "nbformat": 4,
 "nbformat_minor": 5
}
