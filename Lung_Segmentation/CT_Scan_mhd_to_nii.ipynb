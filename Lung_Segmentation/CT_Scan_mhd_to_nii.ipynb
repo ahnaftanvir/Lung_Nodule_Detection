{
 "cells": [
  {
   "cell_type": "code",
   "execution_count": 8,
   "id": "a4a739a1",
   "metadata": {},
   "outputs": [],
   "source": [
    "import os\n",
    "from glob import glob\n",
    "import SimpleITK as sitk\n",
    "from tqdm.notebook import tqdm, trange\n",
    "import shutil\n",
    "import numpy as np\n"
   ]
  },
  {
   "cell_type": "code",
   "execution_count": 9,
   "id": "8d739ee9",
   "metadata": {},
   "outputs": [
    {
     "name": "stdout",
     "output_type": "stream",
     "text": [
      "No. of Image Files : 30\n"
     ]
    }
   ],
   "source": [
    "img_dir = 'E:/Tanvir Mehedi/Lung_segmentation/Data/CT_scan/'\n",
    "img_list = glob(img_dir  + '*mhd')\n",
    "\n",
    "print('No. of Image Files :', len(img_list))\n"
   ]
  },
  {
   "cell_type": "code",
   "execution_count": 10,
   "id": "b3371b2c",
   "metadata": {},
   "outputs": [],
   "source": [
    "def load_itk(filename):\n",
    "    \n",
    "    # Reads the image using SimpleITK\n",
    "    itk_image = sitk.ReadImage(filename)\n",
    "\n",
    "    # Convert the image to a  numpy array first and then shuffle the dimensions to get axis in the order z,y,x\n",
    "    image_array = np.array(sitk.GetArrayFromImage(itk_image), dtype = np.float32)\n",
    "\n",
    "    # Read the origin of the ct_scan, will be used to convert the coordinates from world to voxel and vice versa.\n",
    "    origin = np.array(list(reversed(itk_image.GetOrigin())))\n",
    "\n",
    "    # Read the spacing along each dimension\n",
    "    spacing = np.array(list(reversed(itk_image.GetSpacing())))\n",
    "\n",
    "    return itk_image, image_array, origin, spacing\n"
   ]
  },
  {
   "cell_type": "code",
   "execution_count": 11,
   "id": "291a8a81",
   "metadata": {},
   "outputs": [],
   "source": [
    "output_path = 'E:/Tanvir Mehedi/Lung_segmentation/Data/CT_scan_nii/'\n"
   ]
  },
  {
   "cell_type": "code",
   "execution_count": 12,
   "id": "826a1830",
   "metadata": {},
   "outputs": [
    {
     "data": {
      "application/vnd.jupyter.widget-view+json": {
       "model_id": "a241222415a44862bb5fd05867c7d6d3",
       "version_major": 2,
       "version_minor": 0
      },
      "text/plain": [
       "  0%|          | 0/30 [00:00<?, ?it/s]"
      ]
     },
     "metadata": {},
     "output_type": "display_data"
    }
   ],
   "source": [
    "for i in tqdm(range(len(img_list))):\n",
    "     \n",
    "    seriesuid = img_list[i].split('\\\\')[-1][:-4]\n",
    "    itk_image, image_array, origin, spacing = load_itk(img_list[i])\n",
    "\n",
    "    \n",
    "\n",
    "    img = sitk.GetImageFromArray(image_array)\n",
    "    \n",
    "    img.CopyInformation(itk_image)\n",
    "\n",
    "    sitk.WriteImage(img, output_path + seriesuid + \".nii\")\n",
    "    \n",
    "    "
   ]
  },
  {
   "cell_type": "markdown",
   "id": "b4439e36",
   "metadata": {},
   "source": [
    "# Move nii image to respected folder"
   ]
  },
  {
   "cell_type": "code",
   "execution_count": 9,
   "id": "e426f085",
   "metadata": {},
   "outputs": [
    {
     "name": "stdout",
     "output_type": "stream",
     "text": [
      "No. of Image Files : 888\n"
     ]
    }
   ],
   "source": [
    "nii_img_dir = '/home/m-health/Desktop/Tanvir_BME_17/Luna 16 Dataset/subset'\n",
    "nii_img_list = glob(nii_img_dir + '*/' + '*nii')\n",
    "\n",
    "print('No. of Image Files :', len(nii_img_list))"
   ]
  },
  {
   "cell_type": "code",
   "execution_count": 10,
   "id": "491cf981",
   "metadata": {},
   "outputs": [],
   "source": [
    "output_nii_folder = '/home/m-health/Desktop/Tanvir_BME_17/Luna 16 Dataset/subset_nii/'"
   ]
  },
  {
   "cell_type": "code",
   "execution_count": 11,
   "id": "44e2d96b",
   "metadata": {},
   "outputs": [
    {
     "data": {
      "application/vnd.jupyter.widget-view+json": {
       "model_id": "e59c2861fa49411697ba052f5c9b725f",
       "version_major": 2,
       "version_minor": 0
      },
      "text/plain": [
       "  0%|          | 0/888 [00:00<?, ?it/s]"
      ]
     },
     "metadata": {},
     "output_type": "display_data"
    }
   ],
   "source": [
    "for i in tqdm(range(len(nii_img_list))):\n",
    "\n",
    "    shutil.move(nii_img_list[i], output_nii_folder)"
   ]
  },
  {
   "cell_type": "markdown",
   "id": "30fed31b",
   "metadata": {},
   "source": [
    "# Copy Relevant Lung Masks to respected folder"
   ]
  },
  {
   "cell_type": "code",
   "execution_count": 13,
   "id": "d74e0aa1",
   "metadata": {},
   "outputs": [
    {
     "name": "stdout",
     "output_type": "stream",
     "text": [
      "882\n",
      "882\n"
     ]
    }
   ],
   "source": [
    "luna_seg_path = 'E:/Tanvir Mehedi/Luna 16 Dataset/seg-lungs-LUNA16/seg-lungs-LUNA16/'\n",
    "seg_file_mhd_list = glob(luna_seg_path + \"*.mhd\")\n",
    "print(len(seg_file_mhd_list))\n",
    "\n",
    "seg_file_zraw_list = glob(luna_seg_path + '/' + \"*.zraw\")\n",
    "print(len(seg_file_zraw_list))\n"
   ]
  },
  {
   "cell_type": "code",
   "execution_count": 14,
   "id": "6ed49b73",
   "metadata": {},
   "outputs": [],
   "source": [
    "# img_mhd_list = glob(img_dir + '*.mhd')\n",
    "# print(len(img_mhd_list))\n",
    "\n",
    "# img_raw_list = glob(img_dir + '*.raw')\n",
    "# print(len(img_raw_list))\n"
   ]
  },
  {
   "cell_type": "code",
   "execution_count": 15,
   "id": "93883e68",
   "metadata": {},
   "outputs": [],
   "source": [
    "destination_img = 'E:/Tanvir Mehedi/Lung_segmentation/Data/Lung_mask/'\n"
   ]
  },
  {
   "cell_type": "code",
   "execution_count": 16,
   "id": "cbfad98a",
   "metadata": {},
   "outputs": [
    {
     "data": {
      "application/vnd.jupyter.widget-view+json": {
       "model_id": "ea5e5f80ecc1426da19ca7b470c6fbe6",
       "version_major": 2,
       "version_minor": 0
      },
      "text/plain": [
       "  0%|          | 0/30 [00:00<?, ?it/s]"
      ]
     },
     "metadata": {},
     "output_type": "display_data"
    },
    {
     "name": "stdout",
     "output_type": "stream",
     "text": [
      "E:/Tanvir Mehedi/Lung_segmentation/Data/CT_scan\\1.3.6.1.4.1.14519.5.2.1.6279.6001.105756658031515062000744821260.mhd\n",
      "1.3.6.1.4.1.14519.5.2.1.6279.6001.105756658031515062000744821260\n",
      "E:/Tanvir Mehedi/Lung_segmentation/Data/CT_scan\\1.3.6.1.4.1.14519.5.2.1.6279.6001.108197895896446896160048741492.mhd\n",
      "1.3.6.1.4.1.14519.5.2.1.6279.6001.108197895896446896160048741492\n",
      "E:/Tanvir Mehedi/Lung_segmentation/Data/CT_scan\\1.3.6.1.4.1.14519.5.2.1.6279.6001.109002525524522225658609808059.mhd\n",
      "1.3.6.1.4.1.14519.5.2.1.6279.6001.109002525524522225658609808059\n",
      "E:/Tanvir Mehedi/Lung_segmentation/Data/CT_scan\\1.3.6.1.4.1.14519.5.2.1.6279.6001.111172165674661221381920536987.mhd\n",
      "1.3.6.1.4.1.14519.5.2.1.6279.6001.111172165674661221381920536987\n",
      "E:/Tanvir Mehedi/Lung_segmentation/Data/CT_scan\\1.3.6.1.4.1.14519.5.2.1.6279.6001.122763913896761494371822656720.mhd\n",
      "1.3.6.1.4.1.14519.5.2.1.6279.6001.122763913896761494371822656720\n",
      "E:/Tanvir Mehedi/Lung_segmentation/Data/CT_scan\\1.3.6.1.4.1.14519.5.2.1.6279.6001.124154461048929153767743874565.mhd\n",
      "1.3.6.1.4.1.14519.5.2.1.6279.6001.124154461048929153767743874565\n",
      "E:/Tanvir Mehedi/Lung_segmentation/Data/CT_scan\\1.3.6.1.4.1.14519.5.2.1.6279.6001.126121460017257137098781143514.mhd\n",
      "1.3.6.1.4.1.14519.5.2.1.6279.6001.126121460017257137098781143514\n",
      "E:/Tanvir Mehedi/Lung_segmentation/Data/CT_scan\\1.3.6.1.4.1.14519.5.2.1.6279.6001.126264578931778258890371755354.mhd\n",
      "1.3.6.1.4.1.14519.5.2.1.6279.6001.126264578931778258890371755354\n",
      "E:/Tanvir Mehedi/Lung_segmentation/Data/CT_scan\\1.3.6.1.4.1.14519.5.2.1.6279.6001.128023902651233986592378348912.mhd\n",
      "1.3.6.1.4.1.14519.5.2.1.6279.6001.128023902651233986592378348912\n",
      "E:/Tanvir Mehedi/Lung_segmentation/Data/CT_scan\\1.3.6.1.4.1.14519.5.2.1.6279.6001.129055977637338639741695800950.mhd\n",
      "1.3.6.1.4.1.14519.5.2.1.6279.6001.129055977637338639741695800950\n",
      "E:/Tanvir Mehedi/Lung_segmentation/Data/CT_scan\\1.3.6.1.4.1.14519.5.2.1.6279.6001.134996872583497382954024478441.mhd\n",
      "1.3.6.1.4.1.14519.5.2.1.6279.6001.134996872583497382954024478441\n",
      "E:/Tanvir Mehedi/Lung_segmentation/Data/CT_scan\\1.3.6.1.4.1.14519.5.2.1.6279.6001.137763212752154081977261297097.mhd\n",
      "1.3.6.1.4.1.14519.5.2.1.6279.6001.137763212752154081977261297097\n",
      "E:/Tanvir Mehedi/Lung_segmentation/Data/CT_scan\\1.3.6.1.4.1.14519.5.2.1.6279.6001.138080888843357047811238713686.mhd\n",
      "1.3.6.1.4.1.14519.5.2.1.6279.6001.138080888843357047811238713686\n",
      "E:/Tanvir Mehedi/Lung_segmentation/Data/CT_scan\\1.3.6.1.4.1.14519.5.2.1.6279.6001.139258777898746693365877042411.mhd\n",
      "1.3.6.1.4.1.14519.5.2.1.6279.6001.139258777898746693365877042411\n",
      "E:/Tanvir Mehedi/Lung_segmentation/Data/CT_scan\\1.3.6.1.4.1.14519.5.2.1.6279.6001.139713436241461669335487719526.mhd\n",
      "1.3.6.1.4.1.14519.5.2.1.6279.6001.139713436241461669335487719526\n",
      "E:/Tanvir Mehedi/Lung_segmentation/Data/CT_scan\\1.3.6.1.4.1.14519.5.2.1.6279.6001.141069661700670042960678408762.mhd\n",
      "1.3.6.1.4.1.14519.5.2.1.6279.6001.141069661700670042960678408762\n",
      "E:/Tanvir Mehedi/Lung_segmentation/Data/CT_scan\\1.3.6.1.4.1.14519.5.2.1.6279.6001.144438612068946916340281098509.mhd\n",
      "1.3.6.1.4.1.14519.5.2.1.6279.6001.144438612068946916340281098509\n",
      "E:/Tanvir Mehedi/Lung_segmentation/Data/CT_scan\\1.3.6.1.4.1.14519.5.2.1.6279.6001.146429221666426688999739595820.mhd\n",
      "1.3.6.1.4.1.14519.5.2.1.6279.6001.146429221666426688999739595820\n",
      "E:/Tanvir Mehedi/Lung_segmentation/Data/CT_scan\\1.3.6.1.4.1.14519.5.2.1.6279.6001.154677396354641150280013275227.mhd\n",
      "1.3.6.1.4.1.14519.5.2.1.6279.6001.154677396354641150280013275227\n",
      "E:/Tanvir Mehedi/Lung_segmentation/Data/CT_scan\\1.3.6.1.4.1.14519.5.2.1.6279.6001.187451715205085403623595258748.mhd\n",
      "1.3.6.1.4.1.14519.5.2.1.6279.6001.187451715205085403623595258748\n",
      "E:/Tanvir Mehedi/Lung_segmentation/Data/CT_scan\\1.3.6.1.4.1.14519.5.2.1.6279.6001.188209889686363159853715266493.mhd\n",
      "1.3.6.1.4.1.14519.5.2.1.6279.6001.188209889686363159853715266493\n",
      "E:/Tanvir Mehedi/Lung_segmentation/Data/CT_scan\\1.3.6.1.4.1.14519.5.2.1.6279.6001.188376349804761988217597754952.mhd\n",
      "1.3.6.1.4.1.14519.5.2.1.6279.6001.188376349804761988217597754952\n",
      "E:/Tanvir Mehedi/Lung_segmentation/Data/CT_scan\\1.3.6.1.4.1.14519.5.2.1.6279.6001.194440094986948071643661798326.mhd\n",
      "1.3.6.1.4.1.14519.5.2.1.6279.6001.194440094986948071643661798326\n",
      "E:/Tanvir Mehedi/Lung_segmentation/Data/CT_scan\\1.3.6.1.4.1.14519.5.2.1.6279.6001.194465340552956447447896167830.mhd\n",
      "1.3.6.1.4.1.14519.5.2.1.6279.6001.194465340552956447447896167830\n",
      "E:/Tanvir Mehedi/Lung_segmentation/Data/CT_scan\\1.3.6.1.4.1.14519.5.2.1.6279.6001.202811684116768680758082619196.mhd\n",
      "1.3.6.1.4.1.14519.5.2.1.6279.6001.202811684116768680758082619196\n",
      "E:/Tanvir Mehedi/Lung_segmentation/Data/CT_scan\\1.3.6.1.4.1.14519.5.2.1.6279.6001.210837812047373739447725050963.mhd\n",
      "1.3.6.1.4.1.14519.5.2.1.6279.6001.210837812047373739447725050963\n",
      "E:/Tanvir Mehedi/Lung_segmentation/Data/CT_scan\\1.3.6.1.4.1.14519.5.2.1.6279.6001.213140617640021803112060161074.mhd\n",
      "1.3.6.1.4.1.14519.5.2.1.6279.6001.213140617640021803112060161074\n",
      "E:/Tanvir Mehedi/Lung_segmentation/Data/CT_scan\\1.3.6.1.4.1.14519.5.2.1.6279.6001.216882370221919561230873289517.mhd\n",
      "1.3.6.1.4.1.14519.5.2.1.6279.6001.216882370221919561230873289517\n",
      "E:/Tanvir Mehedi/Lung_segmentation/Data/CT_scan\\1.3.6.1.4.1.14519.5.2.1.6279.6001.219087313261026510628926082729.mhd\n",
      "1.3.6.1.4.1.14519.5.2.1.6279.6001.219087313261026510628926082729\n",
      "E:/Tanvir Mehedi/Lung_segmentation/Data/CT_scan\\1.3.6.1.4.1.14519.5.2.1.6279.6001.219909753224298157409438012179.mhd\n",
      "1.3.6.1.4.1.14519.5.2.1.6279.6001.219909753224298157409438012179\n"
     ]
    }
   ],
   "source": [
    "# img_dir = '/home/m-health/Desktop/Tanvir_BME_17/Luna 16 Dataset/subset'\n",
    "# img_list = glob(img_dir + '*/' + '*nii')\n",
    "for i in tqdm(range(len(img_list))):\n",
    "    print(img_list[i])\n",
    "    \n",
    "    series_uid = img_list[i].split('\\\\')[-1][:-4]\n",
    "    \n",
    "\n",
    "    for j in range(len(seg_file_mhd_list)):\n",
    "        \n",
    "        nod_series_uid = seg_file_mhd_list[j].split('\\\\')[-1][:-4]\n",
    "        \n",
    "        if series_uid == nod_series_uid :\n",
    "            print(series_uid)\n",
    "            shutil.copy(seg_file_mhd_list[j], destination_img)\n",
    "            shutil.copy(seg_file_zraw_list[j], destination_img)\n",
    "#             print(nod_series_uid)\n"
   ]
  },
  {
   "cell_type": "code",
   "execution_count": null,
   "id": "cbb2593c",
   "metadata": {},
   "outputs": [],
   "source": []
  }
 ],
 "metadata": {
  "kernelspec": {
   "display_name": "Python 3 (ipykernel)",
   "language": "python",
   "name": "python3"
  },
  "language_info": {
   "codemirror_mode": {
    "name": "ipython",
    "version": 3
   },
   "file_extension": ".py",
   "mimetype": "text/x-python",
   "name": "python",
   "nbconvert_exporter": "python",
   "pygments_lexer": "ipython3",
   "version": "3.8.12"
  }
 },
 "nbformat": 4,
 "nbformat_minor": 5
}
