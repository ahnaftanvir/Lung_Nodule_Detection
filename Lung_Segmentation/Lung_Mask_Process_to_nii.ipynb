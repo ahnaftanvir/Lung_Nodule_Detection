{
 "cells": [
  {
   "cell_type": "code",
   "execution_count": 4,
   "id": "28927aad",
   "metadata": {},
   "outputs": [],
   "source": [
    "from PIL import Image\n",
    "from glob import glob\n",
    "import pandas as pd\n",
    "import skimage, os\n",
    "import matplotlib.pyplot as plt\n",
    "import numpy as np\n",
    "import SimpleITK as sitk\n",
    "import math\n",
    "import torch\n",
    "import cv2\n",
    "from tqdm.notebook import tqdm, trange"
   ]
  },
  {
   "cell_type": "code",
   "execution_count": 5,
   "id": "7f2344a4",
   "metadata": {},
   "outputs": [
    {
     "name": "stdout",
     "output_type": "stream",
     "text": [
      "30\n"
     ]
    }
   ],
   "source": [
    "luna_mask_dir = 'E:/Tanvir Mehedi/Lung_segmentation/Data/Lung_mask/'\n",
    "lung_mask_list = glob(luna_mask_dir + '*mhd')\n",
    "print(len(lung_mask_list))"
   ]
  },
  {
   "cell_type": "code",
   "execution_count": 6,
   "id": "b7ddc178",
   "metadata": {},
   "outputs": [],
   "source": [
    "def load_itk_mask(filename):\n",
    "    \n",
    "    # Reads the image using SimpleITK\n",
    "    itk_image = sitk.ReadImage(filename)\n",
    "\n",
    "    # Convert the image to a  numpy array first and then shuffle the dimensions to get axis in the order z,y,x\n",
    "    image_array = np.array(sitk.GetArrayFromImage(itk_image), dtype = np.uint8)\n",
    "\n",
    "    # Read the origin of the ct_scan, will be used to convert the coordinates from world to voxel and vice versa.\n",
    "    origin = np.array(list(reversed(itk_image.GetOrigin())))\n",
    "\n",
    "    # Read the spacing along each dimension\n",
    "    spacing = np.array(list(reversed(itk_image.GetSpacing())))\n",
    "\n",
    "    return itk_image, image_array, origin, spacing\n"
   ]
  },
  {
   "cell_type": "code",
   "execution_count": 7,
   "id": "d4b6cf18",
   "metadata": {},
   "outputs": [],
   "source": [
    "output_path = 'E:/Tanvir Mehedi/Lung_segmentation/Data/Lung_mask_nii/'\n"
   ]
  },
  {
   "cell_type": "code",
   "execution_count": 8,
   "id": "3c9f1242",
   "metadata": {},
   "outputs": [
    {
     "data": {
      "application/vnd.jupyter.widget-view+json": {
       "model_id": "c5bcdd07dd414262b232e6c6e4472e0f",
       "version_major": 2,
       "version_minor": 0
      },
      "text/plain": [
       "  0%|          | 0/30 [00:00<?, ?it/s]"
      ]
     },
     "metadata": {},
     "output_type": "display_data"
    }
   ],
   "source": [
    "for i in tqdm(range(len(lung_mask_list))):\n",
    "     \n",
    "    series_uid = lung_mask_list[i].split('\\\\')[-1][:-4]\n",
    "    seg_image, seg_array, seg_origin, seg_spacing = load_itk_mask(lung_mask_list[i])\n",
    "\n",
    "    seg_array[seg_array == 3] = 1\n",
    "    seg_array[seg_array == 4] = 1\n",
    "    seg_array[seg_array != 1] = 0\n",
    "#     seg_array = seg_array.astype(int)\n",
    "    \n",
    "\n",
    "    img = sitk.GetImageFromArray(seg_array)\n",
    "    \n",
    "    img.CopyInformation(seg_image)\n",
    "\n",
    "    sitk.WriteImage(img, output_path + series_uid + \".nii\")\n",
    "    "
   ]
  },
  {
   "cell_type": "code",
   "execution_count": 2,
   "id": "3c28333c",
   "metadata": {},
   "outputs": [
    {
     "data": {
      "text/plain": [
       "26"
      ]
     },
     "execution_count": 2,
     "metadata": {},
     "output_type": "execute_result"
    }
   ],
   "source": [
    "luna_subset_path = 'E:/Tanvir Mehedi/Tanvir_codes/Data/image_subset0/'\n",
    "\n",
    "file_path_list = glob(luna_subset_path + '*.mhd')\n",
    "len(file_path_list)"
   ]
  },
  {
   "cell_type": "code",
   "execution_count": 3,
   "id": "4596c6c6",
   "metadata": {},
   "outputs": [],
   "source": [
    "def load_itk(filename):\n",
    "    \n",
    "    # Reads the image using SimpleITK\n",
    "    itk_image = sitk.ReadImage(filename)\n",
    "\n",
    "    # Convert the image to a  numpy array first and then shuffle the dimensions to get axis in the order z,y,x\n",
    "    image_array = np.array(sitk.GetArrayFromImage(itk_image), dtype = np.float32)\n",
    "\n",
    "    # Read the origin of the ct_scan, will be used to convert the coordinates from world to voxel and vice versa.\n",
    "    origin = np.array(list(reversed(itk_image.GetOrigin())))\n",
    "\n",
    "    # Read the spacing along each dimension\n",
    "    spacing = np.array(list(reversed(itk_image.GetSpacing())))\n",
    "\n",
    "    return itk_image, image_array, origin, spacing"
   ]
  },
  {
   "cell_type": "code",
   "execution_count": 4,
   "id": "79b4e4dc",
   "metadata": {},
   "outputs": [],
   "source": [
    "output_path = 'E:/Tanvir Mehedi/Tanvir_codes/Data/nii_image_subset0/'"
   ]
  },
  {
   "cell_type": "code",
   "execution_count": 6,
   "id": "b40f3c3d",
   "metadata": {},
   "outputs": [
    {
     "data": {
      "application/vnd.jupyter.widget-view+json": {
       "model_id": "fb7b8d5c00ed472db36ca7f5ebec34d1",
       "version_major": 2,
       "version_minor": 0
      },
      "text/plain": [
       "  0%|          | 0/26 [00:00<?, ?it/s]"
      ]
     },
     "metadata": {},
     "output_type": "display_data"
    }
   ],
   "source": [
    "for i in tqdm(range(len(file_path_list))):\n",
    "     \n",
    "    seriesuid = file_path_list[i].split('\\\\')[-1][:-4]\n",
    "    itk_image, image_array, origin, spacing = load_itk(file_path_list[i])\n",
    "\n",
    "    \n",
    "\n",
    "    img = sitk.GetImageFromArray(image_array)\n",
    "    \n",
    "    img.CopyInformation(itk_image)\n",
    "\n",
    "    sitk.WriteImage(img, output_path + seriesuid + \".nii\")\n",
    "    "
   ]
  },
  {
   "cell_type": "code",
   "execution_count": null,
   "id": "1cc2b58e",
   "metadata": {},
   "outputs": [],
   "source": []
  }
 ],
 "metadata": {
  "kernelspec": {
   "display_name": "Python 3 (ipykernel)",
   "language": "python",
   "name": "python3"
  },
  "language_info": {
   "codemirror_mode": {
    "name": "ipython",
    "version": 3
   },
   "file_extension": ".py",
   "mimetype": "text/x-python",
   "name": "python",
   "nbconvert_exporter": "python",
   "pygments_lexer": "ipython3",
   "version": "3.8.12"
  }
 },
 "nbformat": 4,
 "nbformat_minor": 5
}
